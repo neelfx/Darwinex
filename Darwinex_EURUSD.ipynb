{
 "cells": [
  {
   "cell_type": "code",
   "execution_count": 15,
   "metadata": {
    "ExecuteTime": {
     "end_time": "2021-05-09T18:54:39.089185Z",
     "start_time": "2021-05-09T18:54:39.085179Z"
    }
   },
   "outputs": [],
   "source": [
    "import pandas as pd\n",
    "import numpy as np\n",
    "import talib as ta\n",
    "import matplotlib.pyplot as plt\n",
    "plt.style.use('bmh')"
   ]
  },
  {
   "cell_type": "code",
   "execution_count": 16,
   "metadata": {
    "ExecuteTime": {
     "end_time": "2021-05-09T18:54:39.631356Z",
     "start_time": "2021-05-09T18:54:39.556288Z"
    }
   },
   "outputs": [],
   "source": [
    "df = pd.read_csv('.\\data\\eurusd_6m_may9th.csv')"
   ]
  },
  {
   "cell_type": "code",
   "execution_count": 3,
   "metadata": {
    "ExecuteTime": {
     "end_time": "2021-05-09T18:50:35.794115Z",
     "start_time": "2021-05-09T18:50:35.767126Z"
    },
    "scrolled": true
   },
   "outputs": [
    {
     "name": "stdout",
     "output_type": "stream",
     "text": [
      "<class 'pandas.core.frame.DataFrame'>\n",
      "RangeIndex: 33945 entries, 0 to 33944\n",
      "Data columns (total 6 columns):\n",
      " #   Column    Non-Null Count  Dtype  \n",
      "---  ------    --------------  -----  \n",
      " 0   DateTime  33945 non-null  object \n",
      " 1   Open      33945 non-null  float64\n",
      " 2   High      33945 non-null  float64\n",
      " 3   Low       33945 non-null  float64\n",
      " 4   Close     33945 non-null  float64\n",
      " 5   Volume    33945 non-null  int64  \n",
      "dtypes: float64(4), int64(1), object(1)\n",
      "memory usage: 1.6+ MB\n"
     ]
    }
   ],
   "source": [
    "df.info()"
   ]
  },
  {
   "cell_type": "code",
   "execution_count": 4,
   "metadata": {
    "ExecuteTime": {
     "end_time": "2021-05-09T18:50:36.408609Z",
     "start_time": "2021-05-09T18:50:36.384609Z"
    },
    "scrolled": true
   },
   "outputs": [
    {
     "data": {
      "text/html": [
       "<div>\n",
       "<style scoped>\n",
       "    .dataframe tbody tr th:only-of-type {\n",
       "        vertical-align: middle;\n",
       "    }\n",
       "\n",
       "    .dataframe tbody tr th {\n",
       "        vertical-align: top;\n",
       "    }\n",
       "\n",
       "    .dataframe thead th {\n",
       "        text-align: right;\n",
       "    }\n",
       "</style>\n",
       "<table border=\"1\" class=\"dataframe\">\n",
       "  <thead>\n",
       "    <tr style=\"text-align: right;\">\n",
       "      <th></th>\n",
       "      <th>DateTime</th>\n",
       "      <th>Open</th>\n",
       "      <th>High</th>\n",
       "      <th>Low</th>\n",
       "      <th>Close</th>\n",
       "      <th>Volume</th>\n",
       "    </tr>\n",
       "  </thead>\n",
       "  <tbody>\n",
       "    <tr>\n",
       "      <th>0</th>\n",
       "      <td>2020-11-09 00:00:00</td>\n",
       "      <td>1.18924</td>\n",
       "      <td>1.18931</td>\n",
       "      <td>1.18907</td>\n",
       "      <td>1.18918</td>\n",
       "      <td>971198016</td>\n",
       "    </tr>\n",
       "    <tr>\n",
       "      <th>1</th>\n",
       "      <td>2020-11-09 00:05:00</td>\n",
       "      <td>1.18918</td>\n",
       "      <td>1.18925</td>\n",
       "      <td>1.18850</td>\n",
       "      <td>1.18852</td>\n",
       "      <td>1107933952</td>\n",
       "    </tr>\n",
       "    <tr>\n",
       "      <th>2</th>\n",
       "      <td>2020-11-09 00:10:00</td>\n",
       "      <td>1.18851</td>\n",
       "      <td>1.18909</td>\n",
       "      <td>1.18791</td>\n",
       "      <td>1.18893</td>\n",
       "      <td>1215709056</td>\n",
       "    </tr>\n",
       "    <tr>\n",
       "      <th>3</th>\n",
       "      <td>2020-11-09 00:15:00</td>\n",
       "      <td>1.18893</td>\n",
       "      <td>1.18912</td>\n",
       "      <td>1.18875</td>\n",
       "      <td>1.18901</td>\n",
       "      <td>791353024</td>\n",
       "    </tr>\n",
       "    <tr>\n",
       "      <th>4</th>\n",
       "      <td>2020-11-09 00:20:00</td>\n",
       "      <td>1.18900</td>\n",
       "      <td>1.18915</td>\n",
       "      <td>1.18885</td>\n",
       "      <td>1.18888</td>\n",
       "      <td>667254016</td>\n",
       "    </tr>\n",
       "  </tbody>\n",
       "</table>\n",
       "</div>"
      ],
      "text/plain": [
       "              DateTime     Open     High      Low    Close      Volume\n",
       "0  2020-11-09 00:00:00  1.18924  1.18931  1.18907  1.18918   971198016\n",
       "1  2020-11-09 00:05:00  1.18918  1.18925  1.18850  1.18852  1107933952\n",
       "2  2020-11-09 00:10:00  1.18851  1.18909  1.18791  1.18893  1215709056\n",
       "3  2020-11-09 00:15:00  1.18893  1.18912  1.18875  1.18901   791353024\n",
       "4  2020-11-09 00:20:00  1.18900  1.18915  1.18885  1.18888   667254016"
      ]
     },
     "execution_count": 4,
     "metadata": {},
     "output_type": "execute_result"
    }
   ],
   "source": [
    "df.head()"
   ]
  },
  {
   "cell_type": "code",
   "execution_count": 5,
   "metadata": {
    "ExecuteTime": {
     "end_time": "2021-05-09T18:50:39.608269Z",
     "start_time": "2021-05-09T18:50:39.588262Z"
    }
   },
   "outputs": [],
   "source": [
    "df['DateTime'] = pd.to_datetime(df['DateTime'])"
   ]
  },
  {
   "cell_type": "code",
   "execution_count": 6,
   "metadata": {
    "ExecuteTime": {
     "end_time": "2021-05-09T18:50:40.048365Z",
     "start_time": "2021-05-09T18:50:40.031368Z"
    },
    "scrolled": true
   },
   "outputs": [
    {
     "data": {
      "text/html": [
       "<div>\n",
       "<style scoped>\n",
       "    .dataframe tbody tr th:only-of-type {\n",
       "        vertical-align: middle;\n",
       "    }\n",
       "\n",
       "    .dataframe tbody tr th {\n",
       "        vertical-align: top;\n",
       "    }\n",
       "\n",
       "    .dataframe thead th {\n",
       "        text-align: right;\n",
       "    }\n",
       "</style>\n",
       "<table border=\"1\" class=\"dataframe\">\n",
       "  <thead>\n",
       "    <tr style=\"text-align: right;\">\n",
       "      <th></th>\n",
       "      <th>DateTime</th>\n",
       "      <th>Open</th>\n",
       "      <th>High</th>\n",
       "      <th>Low</th>\n",
       "      <th>Close</th>\n",
       "      <th>Volume</th>\n",
       "    </tr>\n",
       "  </thead>\n",
       "  <tbody>\n",
       "    <tr>\n",
       "      <th>0</th>\n",
       "      <td>2020-11-09 00:00:00</td>\n",
       "      <td>1.18924</td>\n",
       "      <td>1.18931</td>\n",
       "      <td>1.18907</td>\n",
       "      <td>1.18918</td>\n",
       "      <td>971198016</td>\n",
       "    </tr>\n",
       "    <tr>\n",
       "      <th>1</th>\n",
       "      <td>2020-11-09 00:05:00</td>\n",
       "      <td>1.18918</td>\n",
       "      <td>1.18925</td>\n",
       "      <td>1.18850</td>\n",
       "      <td>1.18852</td>\n",
       "      <td>1107933952</td>\n",
       "    </tr>\n",
       "    <tr>\n",
       "      <th>2</th>\n",
       "      <td>2020-11-09 00:10:00</td>\n",
       "      <td>1.18851</td>\n",
       "      <td>1.18909</td>\n",
       "      <td>1.18791</td>\n",
       "      <td>1.18893</td>\n",
       "      <td>1215709056</td>\n",
       "    </tr>\n",
       "    <tr>\n",
       "      <th>3</th>\n",
       "      <td>2020-11-09 00:15:00</td>\n",
       "      <td>1.18893</td>\n",
       "      <td>1.18912</td>\n",
       "      <td>1.18875</td>\n",
       "      <td>1.18901</td>\n",
       "      <td>791353024</td>\n",
       "    </tr>\n",
       "    <tr>\n",
       "      <th>4</th>\n",
       "      <td>2020-11-09 00:20:00</td>\n",
       "      <td>1.18900</td>\n",
       "      <td>1.18915</td>\n",
       "      <td>1.18885</td>\n",
       "      <td>1.18888</td>\n",
       "      <td>667254016</td>\n",
       "    </tr>\n",
       "  </tbody>\n",
       "</table>\n",
       "</div>"
      ],
      "text/plain": [
       "             DateTime     Open     High      Low    Close      Volume\n",
       "0 2020-11-09 00:00:00  1.18924  1.18931  1.18907  1.18918   971198016\n",
       "1 2020-11-09 00:05:00  1.18918  1.18925  1.18850  1.18852  1107933952\n",
       "2 2020-11-09 00:10:00  1.18851  1.18909  1.18791  1.18893  1215709056\n",
       "3 2020-11-09 00:15:00  1.18893  1.18912  1.18875  1.18901   791353024\n",
       "4 2020-11-09 00:20:00  1.18900  1.18915  1.18885  1.18888   667254016"
      ]
     },
     "execution_count": 6,
     "metadata": {},
     "output_type": "execute_result"
    }
   ],
   "source": [
    "df.head()"
   ]
  },
  {
   "cell_type": "code",
   "execution_count": 7,
   "metadata": {
    "ExecuteTime": {
     "end_time": "2021-05-09T18:50:40.967769Z",
     "start_time": "2021-05-09T18:50:40.950766Z"
    },
    "scrolled": true
   },
   "outputs": [
    {
     "name": "stdout",
     "output_type": "stream",
     "text": [
      "<class 'pandas.core.frame.DataFrame'>\n",
      "RangeIndex: 33945 entries, 0 to 33944\n",
      "Data columns (total 6 columns):\n",
      " #   Column    Non-Null Count  Dtype         \n",
      "---  ------    --------------  -----         \n",
      " 0   DateTime  33945 non-null  datetime64[ns]\n",
      " 1   Open      33945 non-null  float64       \n",
      " 2   High      33945 non-null  float64       \n",
      " 3   Low       33945 non-null  float64       \n",
      " 4   Close     33945 non-null  float64       \n",
      " 5   Volume    33945 non-null  int64         \n",
      "dtypes: datetime64[ns](1), float64(4), int64(1)\n",
      "memory usage: 1.6 MB\n"
     ]
    }
   ],
   "source": [
    "df.info()"
   ]
  },
  {
   "cell_type": "code",
   "execution_count": 8,
   "metadata": {
    "ExecuteTime": {
     "end_time": "2021-05-09T18:50:43.488044Z",
     "start_time": "2021-05-09T18:50:43.481027Z"
    }
   },
   "outputs": [],
   "source": [
    "df = df.set_index('DateTime')"
   ]
  },
  {
   "cell_type": "code",
   "execution_count": 9,
   "metadata": {
    "ExecuteTime": {
     "end_time": "2021-05-09T18:50:43.985609Z",
     "start_time": "2021-05-09T18:50:43.972611Z"
    },
    "scrolled": true
   },
   "outputs": [],
   "source": [
    "df['Simple MA'] = ta.SMA(df['Close'],14)\n",
    "df['EMA'] = ta.EMA(df['Close'], timeperiod = 14)"
   ]
  },
  {
   "cell_type": "code",
   "execution_count": 10,
   "metadata": {
    "ExecuteTime": {
     "end_time": "2021-05-09T18:50:44.643739Z",
     "start_time": "2021-05-09T18:50:44.619734Z"
    },
    "scrolled": true
   },
   "outputs": [
    {
     "data": {
      "text/html": [
       "<div>\n",
       "<style scoped>\n",
       "    .dataframe tbody tr th:only-of-type {\n",
       "        vertical-align: middle;\n",
       "    }\n",
       "\n",
       "    .dataframe tbody tr th {\n",
       "        vertical-align: top;\n",
       "    }\n",
       "\n",
       "    .dataframe thead th {\n",
       "        text-align: right;\n",
       "    }\n",
       "</style>\n",
       "<table border=\"1\" class=\"dataframe\">\n",
       "  <thead>\n",
       "    <tr style=\"text-align: right;\">\n",
       "      <th></th>\n",
       "      <th>Open</th>\n",
       "      <th>High</th>\n",
       "      <th>Low</th>\n",
       "      <th>Close</th>\n",
       "      <th>Volume</th>\n",
       "      <th>Simple MA</th>\n",
       "      <th>EMA</th>\n",
       "    </tr>\n",
       "    <tr>\n",
       "      <th>DateTime</th>\n",
       "      <th></th>\n",
       "      <th></th>\n",
       "      <th></th>\n",
       "      <th></th>\n",
       "      <th></th>\n",
       "      <th></th>\n",
       "      <th></th>\n",
       "    </tr>\n",
       "  </thead>\n",
       "  <tbody>\n",
       "    <tr>\n",
       "      <th>2020-11-09 00:00:00</th>\n",
       "      <td>1.18924</td>\n",
       "      <td>1.18931</td>\n",
       "      <td>1.18907</td>\n",
       "      <td>1.18918</td>\n",
       "      <td>971198016</td>\n",
       "      <td>NaN</td>\n",
       "      <td>NaN</td>\n",
       "    </tr>\n",
       "    <tr>\n",
       "      <th>2020-11-09 00:05:00</th>\n",
       "      <td>1.18918</td>\n",
       "      <td>1.18925</td>\n",
       "      <td>1.18850</td>\n",
       "      <td>1.18852</td>\n",
       "      <td>1107933952</td>\n",
       "      <td>NaN</td>\n",
       "      <td>NaN</td>\n",
       "    </tr>\n",
       "    <tr>\n",
       "      <th>2020-11-09 00:10:00</th>\n",
       "      <td>1.18851</td>\n",
       "      <td>1.18909</td>\n",
       "      <td>1.18791</td>\n",
       "      <td>1.18893</td>\n",
       "      <td>1215709056</td>\n",
       "      <td>NaN</td>\n",
       "      <td>NaN</td>\n",
       "    </tr>\n",
       "    <tr>\n",
       "      <th>2020-11-09 00:15:00</th>\n",
       "      <td>1.18893</td>\n",
       "      <td>1.18912</td>\n",
       "      <td>1.18875</td>\n",
       "      <td>1.18901</td>\n",
       "      <td>791353024</td>\n",
       "      <td>NaN</td>\n",
       "      <td>NaN</td>\n",
       "    </tr>\n",
       "    <tr>\n",
       "      <th>2020-11-09 00:20:00</th>\n",
       "      <td>1.18900</td>\n",
       "      <td>1.18915</td>\n",
       "      <td>1.18885</td>\n",
       "      <td>1.18888</td>\n",
       "      <td>667254016</td>\n",
       "      <td>NaN</td>\n",
       "      <td>NaN</td>\n",
       "    </tr>\n",
       "  </tbody>\n",
       "</table>\n",
       "</div>"
      ],
      "text/plain": [
       "                        Open     High      Low    Close      Volume  \\\n",
       "DateTime                                                              \n",
       "2020-11-09 00:00:00  1.18924  1.18931  1.18907  1.18918   971198016   \n",
       "2020-11-09 00:05:00  1.18918  1.18925  1.18850  1.18852  1107933952   \n",
       "2020-11-09 00:10:00  1.18851  1.18909  1.18791  1.18893  1215709056   \n",
       "2020-11-09 00:15:00  1.18893  1.18912  1.18875  1.18901   791353024   \n",
       "2020-11-09 00:20:00  1.18900  1.18915  1.18885  1.18888   667254016   \n",
       "\n",
       "                     Simple MA  EMA  \n",
       "DateTime                             \n",
       "2020-11-09 00:00:00        NaN  NaN  \n",
       "2020-11-09 00:05:00        NaN  NaN  \n",
       "2020-11-09 00:10:00        NaN  NaN  \n",
       "2020-11-09 00:15:00        NaN  NaN  \n",
       "2020-11-09 00:20:00        NaN  NaN  "
      ]
     },
     "execution_count": 10,
     "metadata": {},
     "output_type": "execute_result"
    }
   ],
   "source": [
    "df.head()"
   ]
  },
  {
   "cell_type": "code",
   "execution_count": 11,
   "metadata": {
    "ExecuteTime": {
     "end_time": "2021-05-09T18:50:47.217872Z",
     "start_time": "2021-05-09T18:50:47.146885Z"
    }
   },
   "outputs": [],
   "source": [
    "import mplfinance as mpf"
   ]
  },
  {
   "cell_type": "code",
   "execution_count": 12,
   "metadata": {
    "ExecuteTime": {
     "end_time": "2021-05-09T18:50:47.562676Z",
     "start_time": "2021-05-09T18:50:47.518675Z"
    }
   },
   "outputs": [
    {
     "data": {
      "text/html": [
       "<div>\n",
       "<style scoped>\n",
       "    .dataframe tbody tr th:only-of-type {\n",
       "        vertical-align: middle;\n",
       "    }\n",
       "\n",
       "    .dataframe tbody tr th {\n",
       "        vertical-align: top;\n",
       "    }\n",
       "\n",
       "    .dataframe thead th {\n",
       "        text-align: right;\n",
       "    }\n",
       "</style>\n",
       "<table border=\"1\" class=\"dataframe\">\n",
       "  <thead>\n",
       "    <tr style=\"text-align: right;\">\n",
       "      <th></th>\n",
       "      <th>Open</th>\n",
       "      <th>High</th>\n",
       "      <th>Low</th>\n",
       "      <th>Close</th>\n",
       "      <th>Volume</th>\n",
       "      <th>Simple MA</th>\n",
       "      <th>EMA</th>\n",
       "    </tr>\n",
       "    <tr>\n",
       "      <th>DateTime</th>\n",
       "      <th></th>\n",
       "      <th></th>\n",
       "      <th></th>\n",
       "      <th></th>\n",
       "      <th></th>\n",
       "      <th></th>\n",
       "      <th></th>\n",
       "    </tr>\n",
       "  </thead>\n",
       "  <tbody>\n",
       "    <tr>\n",
       "      <th>2020-12-01 00:00:00</th>\n",
       "      <td>1.19373</td>\n",
       "      <td>1.19378</td>\n",
       "      <td>1.19352</td>\n",
       "      <td>1.19377</td>\n",
       "      <td>452150016</td>\n",
       "      <td>1.193418</td>\n",
       "      <td>1.193477</td>\n",
       "    </tr>\n",
       "    <tr>\n",
       "      <th>2020-12-01 00:05:00</th>\n",
       "      <td>1.19377</td>\n",
       "      <td>1.19384</td>\n",
       "      <td>1.19369</td>\n",
       "      <td>1.19383</td>\n",
       "      <td>348000000</td>\n",
       "      <td>1.193481</td>\n",
       "      <td>1.193524</td>\n",
       "    </tr>\n",
       "    <tr>\n",
       "      <th>2020-12-01 00:10:00</th>\n",
       "      <td>1.19384</td>\n",
       "      <td>1.19395</td>\n",
       "      <td>1.19376</td>\n",
       "      <td>1.19379</td>\n",
       "      <td>400600000</td>\n",
       "      <td>1.193533</td>\n",
       "      <td>1.193560</td>\n",
       "    </tr>\n",
       "    <tr>\n",
       "      <th>2020-12-01 00:15:00</th>\n",
       "      <td>1.19379</td>\n",
       "      <td>1.19389</td>\n",
       "      <td>1.19372</td>\n",
       "      <td>1.19383</td>\n",
       "      <td>195136992</td>\n",
       "      <td>1.193583</td>\n",
       "      <td>1.193596</td>\n",
       "    </tr>\n",
       "    <tr>\n",
       "      <th>2020-12-01 00:20:00</th>\n",
       "      <td>1.19382</td>\n",
       "      <td>1.19383</td>\n",
       "      <td>1.19367</td>\n",
       "      <td>1.19378</td>\n",
       "      <td>127700000</td>\n",
       "      <td>1.193622</td>\n",
       "      <td>1.193620</td>\n",
       "    </tr>\n",
       "    <tr>\n",
       "      <th>...</th>\n",
       "      <td>...</td>\n",
       "      <td>...</td>\n",
       "      <td>...</td>\n",
       "      <td>...</td>\n",
       "      <td>...</td>\n",
       "      <td>...</td>\n",
       "      <td>...</td>\n",
       "    </tr>\n",
       "    <tr>\n",
       "      <th>2020-12-31 20:35:00</th>\n",
       "      <td>1.22173</td>\n",
       "      <td>1.22193</td>\n",
       "      <td>1.22173</td>\n",
       "      <td>1.22177</td>\n",
       "      <td>339500000</td>\n",
       "      <td>1.221658</td>\n",
       "      <td>1.221661</td>\n",
       "    </tr>\n",
       "    <tr>\n",
       "      <th>2020-12-31 20:40:00</th>\n",
       "      <td>1.22177</td>\n",
       "      <td>1.22185</td>\n",
       "      <td>1.22156</td>\n",
       "      <td>1.22158</td>\n",
       "      <td>293750016</td>\n",
       "      <td>1.221621</td>\n",
       "      <td>1.221650</td>\n",
       "    </tr>\n",
       "    <tr>\n",
       "      <th>2020-12-31 20:45:00</th>\n",
       "      <td>1.22159</td>\n",
       "      <td>1.22160</td>\n",
       "      <td>1.22131</td>\n",
       "      <td>1.22142</td>\n",
       "      <td>229275008</td>\n",
       "      <td>1.221562</td>\n",
       "      <td>1.221620</td>\n",
       "    </tr>\n",
       "    <tr>\n",
       "      <th>2020-12-31 20:50:00</th>\n",
       "      <td>1.22141</td>\n",
       "      <td>1.22168</td>\n",
       "      <td>1.22140</td>\n",
       "      <td>1.22156</td>\n",
       "      <td>341249984</td>\n",
       "      <td>1.221516</td>\n",
       "      <td>1.221612</td>\n",
       "    </tr>\n",
       "    <tr>\n",
       "      <th>2020-12-31 20:55:00</th>\n",
       "      <td>1.22155</td>\n",
       "      <td>1.22182</td>\n",
       "      <td>1.22151</td>\n",
       "      <td>1.22158</td>\n",
       "      <td>649825984</td>\n",
       "      <td>1.221501</td>\n",
       "      <td>1.221607</td>\n",
       "    </tr>\n",
       "  </tbody>\n",
       "</table>\n",
       "<p>6156 rows × 7 columns</p>\n",
       "</div>"
      ],
      "text/plain": [
       "                        Open     High      Low    Close     Volume  Simple MA  \\\n",
       "DateTime                                                                        \n",
       "2020-12-01 00:00:00  1.19373  1.19378  1.19352  1.19377  452150016   1.193418   \n",
       "2020-12-01 00:05:00  1.19377  1.19384  1.19369  1.19383  348000000   1.193481   \n",
       "2020-12-01 00:10:00  1.19384  1.19395  1.19376  1.19379  400600000   1.193533   \n",
       "2020-12-01 00:15:00  1.19379  1.19389  1.19372  1.19383  195136992   1.193583   \n",
       "2020-12-01 00:20:00  1.19382  1.19383  1.19367  1.19378  127700000   1.193622   \n",
       "...                      ...      ...      ...      ...        ...        ...   \n",
       "2020-12-31 20:35:00  1.22173  1.22193  1.22173  1.22177  339500000   1.221658   \n",
       "2020-12-31 20:40:00  1.22177  1.22185  1.22156  1.22158  293750016   1.221621   \n",
       "2020-12-31 20:45:00  1.22159  1.22160  1.22131  1.22142  229275008   1.221562   \n",
       "2020-12-31 20:50:00  1.22141  1.22168  1.22140  1.22156  341249984   1.221516   \n",
       "2020-12-31 20:55:00  1.22155  1.22182  1.22151  1.22158  649825984   1.221501   \n",
       "\n",
       "                          EMA  \n",
       "DateTime                       \n",
       "2020-12-01 00:00:00  1.193477  \n",
       "2020-12-01 00:05:00  1.193524  \n",
       "2020-12-01 00:10:00  1.193560  \n",
       "2020-12-01 00:15:00  1.193596  \n",
       "2020-12-01 00:20:00  1.193620  \n",
       "...                       ...  \n",
       "2020-12-31 20:35:00  1.221661  \n",
       "2020-12-31 20:40:00  1.221650  \n",
       "2020-12-31 20:45:00  1.221620  \n",
       "2020-12-31 20:50:00  1.221612  \n",
       "2020-12-31 20:55:00  1.221607  \n",
       "\n",
       "[6156 rows x 7 columns]"
      ]
     },
     "execution_count": 12,
     "metadata": {},
     "output_type": "execute_result"
    }
   ],
   "source": [
    "df['2020-12-01':'2020-12-31']"
   ]
  },
  {
   "cell_type": "code",
   "execution_count": 13,
   "metadata": {
    "ExecuteTime": {
     "end_time": "2021-05-09T18:50:50.842937Z",
     "start_time": "2021-05-09T18:50:50.083388Z"
    },
    "scrolled": false
   },
   "outputs": [
    {
     "data": {
      "image/png": "[encoded data removed]",
      "text/plain": [
       "<Figure size 1265x575 with 2 Axes>"
      ]
     },
     "metadata": {},
     "output_type": "display_data"
    },
    {
     "name": "stderr",
     "output_type": "stream",
     "text": [
      "C:\\Users\\Neel\\Anaconda3\\lib\\site-packages\\matplotlib\\cbook\\__init__.py:2062: FutureWarning: Support for multi-dimensional indexing (e.g. `obj[:, None]`) is deprecated and will be removed in a future version.  Convert to a numpy array before indexing instead.\n",
      "  x[:, None]\n",
      "C:\\Users\\Neel\\Anaconda3\\lib\\site-packages\\matplotlib\\axes\\_base.py:250: FutureWarning: Support for multi-dimensional indexing (e.g. `obj[:, None]`) is deprecated and will be removed in a future version.  Convert to a numpy array before indexing instead.\n",
      "  y = y[:, np.newaxis]\n"
     ]
    },
    {
     "data": {
      "image/png": "[encoded data removed]",
      "text/plain": [
       "<Figure size 1265x575 with 2 Axes>"
      ]
     },
     "metadata": {},
     "output_type": "display_data"
    }
   ],
   "source": [
    "tcdf = df['2020-12-01 01:00:00':'2020-12-02 01:00:00'][['Simple MA','EMA']]  # DataFrame with two columns\n",
    "apd  = mpf.make_addplot(tcdf)\n",
    "mpf.plot(df['2020-12-01 01:00:00':'2020-12-02 01:00:00'], type='candle', title='GBPUSD represented by candlesticks', figratio=(22,10))\n",
    "mpf.plot(df['2020-12-01 01:00:00':'2020-12-02 01:00:00'], type='candle', title='GBPUSD with moving averages', figratio=(22,10), addplot=apd)\n",
    "\n",
    "# mpf.plot(stored_df['09-25-2020':'10-01-2020'],type='candle',volume=False,\n",
    "#          show_nontrading=False, figratio=(16,10), style='charles', addplot=apd)"
   ]
  },
  {
   "cell_type": "code",
   "execution_count": null,
   "metadata": {},
   "outputs": [],
   "source": []
  }
 ],
 "metadata": {
  "kernelspec": {
   "display_name": "Python 3",
   "language": "python",
   "name": "python3"
  },
  "language_info": {
   "codemirror_mode": {
    "name": "ipython",
    "version": 3
   },
   "file_extension": ".py",
   "mimetype": "text/x-python",
   "name": "python",
   "nbconvert_exporter": "python",
   "pygments_lexer": "ipython3",
   "version": "3.6.8"
  },
  "toc": {
   "base_numbering": 1,
   "nav_menu": {},
   "number_sections": true,
   "sideBar": true,
   "skip_h1_title": false,
   "title_cell": "Table of Contents",
   "title_sidebar": "Contents",
   "toc_cell": false,
   "toc_position": {},
   "toc_section_display": true,
   "toc_window_display": false
  }
 },
 "nbformat": 4,
 "nbformat_minor": 2
}
