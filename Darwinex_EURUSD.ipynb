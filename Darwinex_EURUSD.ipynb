{
 "cells": [
  {
   "cell_type": "code",
   "execution_count": 12,
   "metadata": {
    "ExecuteTime": {
     "end_time": "2021-04-11T20:18:25.387047Z",
     "start_time": "2021-04-11T20:18:25.096121Z"
    }
   },
   "outputs": [
    {
     "name": "stdout",
     "output_type": "stream",
     "text": [
      "Connected Darwinex Ticks Data Server\n"
     ]
    }
   ],
   "source": [
    "# import darwinex_ticks\n",
    "# dwt = darwinex_ticks.DarwinexTicksConnection(dwx_ftp_user='',\n",
    "#                        dwx_ftp_pass='',\n",
    "#                        dwx_ftp_hostname='ftp://tickdata.darwinex.com',\n",
    "#                        dwx_ftp_port='21')"
   ]
  },
  {
   "cell_type": "code",
   "execution_count": null,
   "metadata": {},
   "outputs": [],
   "source": []
  },
  {
   "cell_type": "code",
   "execution_count": 13,
   "metadata": {
    "ExecuteTime": {
     "end_time": "2021-04-11T20:18:29.290656Z",
     "start_time": "2021-04-11T20:18:27.905882Z"
    },
    "scrolled": false
   },
   "outputs": [
    {
     "name": "stdout",
     "output_type": "stream",
     "text": [
      "Process completed. 1 files downloaded\n"
     ]
    }
   ],
   "source": [
    "# data = dwt.ticks_from_darwinex('EURUSD', cond='2017-10-01 22', side='ASK')"
   ]
  },
  {
   "cell_type": "code",
   "execution_count": 14,
   "metadata": {
    "ExecuteTime": {
     "end_time": "2021-04-11T20:18:36.206027Z",
     "start_time": "2021-04-11T20:18:36.183023Z"
    }
   },
   "outputs": [
    {
     "data": {
      "text/html": [
       "<div>\n",
       "<style scoped>\n",
       "    .dataframe tbody tr th:only-of-type {\n",
       "        vertical-align: middle;\n",
       "    }\n",
       "\n",
       "    .dataframe tbody tr th {\n",
       "        vertical-align: top;\n",
       "    }\n",
       "\n",
       "    .dataframe thead th {\n",
       "        text-align: right;\n",
       "    }\n",
       "</style>\n",
       "<table border=\"1\" class=\"dataframe\">\n",
       "  <thead>\n",
       "    <tr style=\"text-align: right;\">\n",
       "      <th></th>\n",
       "      <th>Ask</th>\n",
       "      <th>Ask_size</th>\n",
       "    </tr>\n",
       "    <tr>\n",
       "      <th>Time</th>\n",
       "      <th></th>\n",
       "      <th></th>\n",
       "    </tr>\n",
       "  </thead>\n",
       "  <tbody>\n",
       "    <tr>\n",
       "      <th>2017-10-01 22:00:00.043000+00:00</th>\n",
       "      <td>1.18078</td>\n",
       "      <td>500000</td>\n",
       "    </tr>\n",
       "    <tr>\n",
       "      <th>2017-10-01 22:00:00.134000+00:00</th>\n",
       "      <td>1.18079</td>\n",
       "      <td>1000000</td>\n",
       "    </tr>\n",
       "    <tr>\n",
       "      <th>2017-10-01 22:00:00.268000+00:00</th>\n",
       "      <td>1.18078</td>\n",
       "      <td>229000</td>\n",
       "    </tr>\n",
       "    <tr>\n",
       "      <th>2017-10-01 22:00:00.297000+00:00</th>\n",
       "      <td>1.18081</td>\n",
       "      <td>500000</td>\n",
       "    </tr>\n",
       "    <tr>\n",
       "      <th>2017-10-01 22:00:00.308000+00:00</th>\n",
       "      <td>1.18083</td>\n",
       "      <td>1000000</td>\n",
       "    </tr>\n",
       "  </tbody>\n",
       "</table>\n",
       "</div>"
      ],
      "text/plain": [
       "                                      Ask  Ask_size\n",
       "Time                                               \n",
       "2017-10-01 22:00:00.043000+00:00  1.18078    500000\n",
       "2017-10-01 22:00:00.134000+00:00  1.18079   1000000\n",
       "2017-10-01 22:00:00.268000+00:00  1.18078    229000\n",
       "2017-10-01 22:00:00.297000+00:00  1.18081    500000\n",
       "2017-10-01 22:00:00.308000+00:00  1.18083   1000000"
      ]
     },
     "execution_count": 14,
     "metadata": {},
     "output_type": "execute_result"
    }
   ],
   "source": [
    "# data.head()"
   ]
  },
  {
   "cell_type": "code",
   "execution_count": 15,
   "metadata": {
    "ExecuteTime": {
     "end_time": "2021-04-11T20:19:34.032046Z",
     "start_time": "2021-04-11T20:19:32.632694Z"
    }
   },
   "outputs": [
    {
     "data": {
      "application/vnd.jupyter.widget-view+json": {
       "model_id": "19097fd872f748dca675c370d4eb9ec1",
       "version_major": 2,
       "version_minor": 0
      },
      "text/plain": [
       "FloatProgress(value=0.0, max=2.0)"
      ]
     },
     "metadata": {},
     "output_type": "display_data"
    },
    {
     "name": "stdout",
     "output_type": "stream",
     "text": [
      "Process completed. 2 files downloaded\n"
     ]
    }
   ],
   "source": [
    "# data = dwt.ticks_from_darwinex('EURUSD', cond='2018-08-02 13')"
   ]
  },
  {
   "cell_type": "code",
   "execution_count": 1,
   "metadata": {
    "ExecuteTime": {
     "end_time": "2021-05-02T21:39:03.463195Z",
     "start_time": "2021-05-02T21:38:57.202407Z"
    }
   },
   "outputs": [],
   "source": [
    "import pandas as pd\n",
    "import numpy as np"
   ]
  },
  {
   "cell_type": "code",
   "execution_count": null,
   "metadata": {},
   "outputs": [],
   "source": [
    "df = pd.read_csv('.\\data\\eurusd_6m_may2nd')"
   ]
  }
 ],
 "metadata": {
  "kernelspec": {
   "display_name": "Python 3",
   "language": "python",
   "name": "python3"
  },
  "language_info": {
   "codemirror_mode": {
    "name": "ipython",
    "version": 3
   },
   "file_extension": ".py",
   "mimetype": "text/x-python",
   "name": "python",
   "nbconvert_exporter": "python",
   "pygments_lexer": "ipython3",
   "version": "3.6.8"
  },
  "toc": {
   "base_numbering": 1,
   "nav_menu": {},
   "number_sections": true,
   "sideBar": true,
   "skip_h1_title": false,
   "title_cell": "Table of Contents",
   "title_sidebar": "Contents",
   "toc_cell": false,
   "toc_position": {},
   "toc_section_display": true,
   "toc_window_display": false
  }
 },
 "nbformat": 4,
 "nbformat_minor": 2
}
