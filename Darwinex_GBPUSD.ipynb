{
 "cells": [
  {
   "cell_type": "code",
   "execution_count": 6,
   "metadata": {
    "ExecuteTime": {
     "end_time": "2021-04-11T20:23:31.292001Z",
     "start_time": "2021-04-11T20:23:30.992005Z"
    }
   },
   "outputs": [
    {
     "name": "stdout",
     "output_type": "stream",
     "text": [
      "Connected Darwinex Ticks Data Server\n"
     ]
    }
   ],
   "source": [
    "import darwinex_ticks\n",
    "dwt = darwinex_ticks.DarwinexTicksConnection(dwx_ftp_user='',\n",
    "                       dwx_ftp_pass='',\n",
    "                       dwx_ftp_hostname='ftp://tickdata.darwinex.com',\n",
    "                       dwx_ftp_port='21')"
   ]
  },
  {
   "cell_type": "code",
   "execution_count": null,
   "metadata": {},
   "outputs": [],
   "source": []
  },
  {
   "cell_type": "code",
   "execution_count": 7,
   "metadata": {
    "ExecuteTime": {
     "end_time": "2021-04-11T20:23:35.115080Z",
     "start_time": "2021-04-11T20:23:33.017993Z"
    },
    "scrolled": false
   },
   "outputs": [
    {
     "name": "stdout",
     "output_type": "stream",
     "text": [
      "Process completed. 1 files downloaded\n"
     ]
    }
   ],
   "source": [
    "data = dwt.ticks_from_darwinex('GBPUSD', cond='2017-10-01 22', side='ASK')"
   ]
  },
  {
   "cell_type": "code",
   "execution_count": 11,
   "metadata": {
    "ExecuteTime": {
     "end_time": "2021-04-11T20:23:44.437212Z",
     "start_time": "2021-04-11T20:23:44.421210Z"
    }
   },
   "outputs": [
    {
     "data": {
      "text/html": [
       "<div>\n",
       "<style scoped>\n",
       "    .dataframe tbody tr th:only-of-type {\n",
       "        vertical-align: middle;\n",
       "    }\n",
       "\n",
       "    .dataframe tbody tr th {\n",
       "        vertical-align: top;\n",
       "    }\n",
       "\n",
       "    .dataframe thead th {\n",
       "        text-align: right;\n",
       "    }\n",
       "</style>\n",
       "<table border=\"1\" class=\"dataframe\">\n",
       "  <thead>\n",
       "    <tr style=\"text-align: right;\">\n",
       "      <th></th>\n",
       "      <th>Ask</th>\n",
       "      <th>Ask_size</th>\n",
       "      <th>Bid</th>\n",
       "      <th>Bid_size</th>\n",
       "    </tr>\n",
       "    <tr>\n",
       "      <th>Time</th>\n",
       "      <th></th>\n",
       "      <th></th>\n",
       "      <th></th>\n",
       "      <th></th>\n",
       "    </tr>\n",
       "  </thead>\n",
       "  <tbody>\n",
       "    <tr>\n",
       "      <th>2018-08-02 13:00:00.252000+00:00</th>\n",
       "      <td>1.30500</td>\n",
       "      <td>500000.0</td>\n",
       "      <td>1.30493</td>\n",
       "      <td>489000.0</td>\n",
       "    </tr>\n",
       "    <tr>\n",
       "      <th>2018-08-02 13:00:00.605000+00:00</th>\n",
       "      <td>1.30501</td>\n",
       "      <td>749000.0</td>\n",
       "      <td>1.30493</td>\n",
       "      <td>489000.0</td>\n",
       "    </tr>\n",
       "    <tr>\n",
       "      <th>2018-08-02 13:00:00.957000+00:00</th>\n",
       "      <td>1.30500</td>\n",
       "      <td>249000.0</td>\n",
       "      <td>1.30493</td>\n",
       "      <td>489000.0</td>\n",
       "    </tr>\n",
       "    <tr>\n",
       "      <th>2018-08-02 13:00:01.310000+00:00</th>\n",
       "      <td>1.30495</td>\n",
       "      <td>469000.0</td>\n",
       "      <td>1.30487</td>\n",
       "      <td>1205000.0</td>\n",
       "    </tr>\n",
       "    <tr>\n",
       "      <th>2018-08-02 13:00:01.661000+00:00</th>\n",
       "      <td>1.30493</td>\n",
       "      <td>749000.0</td>\n",
       "      <td>1.30486</td>\n",
       "      <td>1189000.0</td>\n",
       "    </tr>\n",
       "  </tbody>\n",
       "</table>\n",
       "</div>"
      ],
      "text/plain": [
       "                                      Ask  Ask_size      Bid   Bid_size\n",
       "Time                                                                   \n",
       "2018-08-02 13:00:00.252000+00:00  1.30500  500000.0  1.30493   489000.0\n",
       "2018-08-02 13:00:00.605000+00:00  1.30501  749000.0  1.30493   489000.0\n",
       "2018-08-02 13:00:00.957000+00:00  1.30500  249000.0  1.30493   489000.0\n",
       "2018-08-02 13:00:01.310000+00:00  1.30495  469000.0  1.30487  1205000.0\n",
       "2018-08-02 13:00:01.661000+00:00  1.30493  749000.0  1.30486  1189000.0"
      ]
     },
     "execution_count": 11,
     "metadata": {},
     "output_type": "execute_result"
    }
   ],
   "source": [
    "data.head()"
   ]
  },
  {
   "cell_type": "code",
   "execution_count": 12,
   "metadata": {
    "ExecuteTime": {
     "end_time": "2021-04-11T20:23:49.627255Z",
     "start_time": "2021-04-11T20:23:47.788542Z"
    }
   },
   "outputs": [
    {
     "data": {
      "application/vnd.jupyter.widget-view+json": {
       "model_id": "d6ea9e30a06c479e96296ffd38c32695",
       "version_major": 2,
       "version_minor": 0
      },
      "text/plain": [
       "FloatProgress(value=0.0, max=2.0)"
      ]
     },
     "metadata": {},
     "output_type": "display_data"
    },
    {
     "name": "stdout",
     "output_type": "stream",
     "text": [
      "Process completed. 2 files downloaded\n"
     ]
    }
   ],
   "source": [
    "data = dwt.ticks_from_darwinex('GBPUSD', cond='2018-08-02 13')"
   ]
  },
  {
   "cell_type": "code",
   "execution_count": null,
   "metadata": {},
   "outputs": [],
   "source": []
  }
 ],
 "metadata": {
  "kernelspec": {
   "display_name": "Python 3",
   "language": "python",
   "name": "python3"
  },
  "language_info": {
   "codemirror_mode": {
    "name": "ipython",
    "version": 3
   },
   "file_extension": ".py",
   "mimetype": "text/x-python",
   "name": "python",
   "nbconvert_exporter": "python",
   "pygments_lexer": "ipython3",
   "version": "3.6.8"
  },
  "toc": {
   "base_numbering": 1,
   "nav_menu": {},
   "number_sections": true,
   "sideBar": true,
   "skip_h1_title": false,
   "title_cell": "Table of Contents",
   "title_sidebar": "Contents",
   "toc_cell": false,
   "toc_position": {},
   "toc_section_display": true,
   "toc_window_display": false
  }
 },
 "nbformat": 4,
 "nbformat_minor": 2
}
