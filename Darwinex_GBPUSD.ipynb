{
 "cells": [
  {
   "cell_type": "code",
   "execution_count": null,
   "metadata": {
    "ExecuteTime": {
     "end_time": "2021-05-02T20:24:54.855360Z",
     "start_time": "2021-05-02T20:24:54.556753Z"
    }
   },
   "outputs": [],
   "source": []
  },
  {
   "cell_type": "code",
   "execution_count": 9,
   "metadata": {
    "ExecuteTime": {
     "end_time": "2021-05-02T21:35:23.508207Z",
     "start_time": "2021-05-02T21:35:23.471199Z"
    }
   },
   "outputs": [],
   "source": [
    "import pandas as pd\n",
    "import numpy as np"
   ]
  },
  {
   "cell_type": "code",
   "execution_count": 10,
   "metadata": {
    "ExecuteTime": {
     "end_time": "2021-05-02T21:35:35.006131Z",
     "start_time": "2021-05-02T21:35:35.000127Z"
    }
   },
   "outputs": [],
   "source": [
    "# data = dwt.ticks_from_darwinex(['NZDUSD','NZDJPY'],\n",
    "#                                start='2018-10-01 09', end='2018-10-01 11')"
   ]
  },
  {
   "cell_type": "code",
   "execution_count": 13,
   "metadata": {
    "ExecuteTime": {
     "end_time": "2021-05-02T21:36:09.527804Z",
     "start_time": "2021-05-02T21:36:09.399749Z"
    }
   },
   "outputs": [],
   "source": [
    "df = pd.read_csv('.\\data\\gbpusd_6m_may2nd.csv')"
   ]
  },
  {
   "cell_type": "code",
   "execution_count": 14,
   "metadata": {
    "ExecuteTime": {
     "end_time": "2021-05-02T21:36:15.194496Z",
     "start_time": "2021-05-02T21:36:15.107494Z"
    }
   },
   "outputs": [
    {
     "name": "stdout",
     "output_type": "stream",
     "text": [
      "<class 'pandas.core.frame.DataFrame'>\n",
      "RangeIndex: 35368 entries, 0 to 35367\n",
      "Data columns (total 7 columns):\n",
      " #   Column  Non-Null Count  Dtype  \n",
      "---  ------  --------------  -----  \n",
      " 0   Date    35368 non-null  int64  \n",
      " 1   Time    35368 non-null  object \n",
      " 2   Open    35368 non-null  float64\n",
      " 3   High    35368 non-null  float64\n",
      " 4   Low     35368 non-null  float64\n",
      " 5   Close   35368 non-null  float64\n",
      " 6   Volume  35368 non-null  int64  \n",
      "dtypes: float64(4), int64(2), object(1)\n",
      "memory usage: 1.9+ MB\n"
     ]
    }
   ],
   "source": [
    "df.info()"
   ]
  },
  {
   "cell_type": "code",
   "execution_count": null,
   "metadata": {},
   "outputs": [],
   "source": []
  }
 ],
 "metadata": {
  "kernelspec": {
   "display_name": "Python 3",
   "language": "python",
   "name": "python3"
  },
  "language_info": {
   "codemirror_mode": {
    "name": "ipython",
    "version": 3
   },
   "file_extension": ".py",
   "mimetype": "text/x-python",
   "name": "python",
   "nbconvert_exporter": "python",
   "pygments_lexer": "ipython3",
   "version": "3.6.8"
  },
  "toc": {
   "base_numbering": 1,
   "nav_menu": {},
   "number_sections": true,
   "sideBar": true,
   "skip_h1_title": false,
   "title_cell": "Table of Contents",
   "title_sidebar": "Contents",
   "toc_cell": false,
   "toc_position": {},
   "toc_section_display": true,
   "toc_window_display": false
  }
 },
 "nbformat": 4,
 "nbformat_minor": 2
}
