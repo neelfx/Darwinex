{
 "cells": [
  {
   "cell_type": "code",
   "execution_count": 1,
   "metadata": {
    "ExecuteTime": {
     "end_time": "2021-06-27T21:14:28.392004Z",
     "start_time": "2021-06-27T21:14:26.744004Z"
    }
   },
   "outputs": [],
   "source": [
    "import pandas as pd\n",
    "import numpy as np\n",
    "import talib as ta\n",
    "import matplotlib.pyplot as plt\n",
    "plt.style.use('bmh')"
   ]
  },
  {
   "cell_type": "code",
   "execution_count": 2,
   "metadata": {
    "ExecuteTime": {
     "end_time": "2021-06-27T21:14:28.541002Z",
     "start_time": "2021-06-27T21:14:28.396004Z"
    }
   },
   "outputs": [],
   "source": [
    "df = pd.read_csv('.\\data\\gbpusd_6m_may9th.csv')"
   ]
  },
  {
   "cell_type": "code",
   "execution_count": 3,
   "metadata": {
    "ExecuteTime": {
     "end_time": "2021-06-27T21:14:28.585003Z",
     "start_time": "2021-06-27T21:14:28.547049Z"
    },
    "scrolled": true
   },
   "outputs": [
    {
     "name": "stdout",
     "output_type": "stream",
     "text": [
      "<class 'pandas.core.frame.DataFrame'>\n",
      "RangeIndex: 33953 entries, 0 to 33952\n",
      "Data columns (total 6 columns):\n",
      " #   Column    Non-Null Count  Dtype  \n",
      "---  ------    --------------  -----  \n",
      " 0   DateTime  33953 non-null  object \n",
      " 1   Open      33953 non-null  float64\n",
      " 2   High      33953 non-null  float64\n",
      " 3   Low       33953 non-null  float64\n",
      " 4   Close     33953 non-null  float64\n",
      " 5   Volume    33953 non-null  int64  \n",
      "dtypes: float64(4), int64(1), object(1)\n",
      "memory usage: 1.6+ MB\n"
     ]
    }
   ],
   "source": [
    "df.info()"
   ]
  },
  {
   "cell_type": "code",
   "execution_count": 4,
   "metadata": {
    "ExecuteTime": {
     "end_time": "2021-06-27T21:14:28.631005Z",
     "start_time": "2021-06-27T21:14:28.591007Z"
    },
    "scrolled": true
   },
   "outputs": [
    {
     "data": {
      "text/html": [
       "<div>\n",
       "<style scoped>\n",
       "    .dataframe tbody tr th:only-of-type {\n",
       "        vertical-align: middle;\n",
       "    }\n",
       "\n",
       "    .dataframe tbody tr th {\n",
       "        vertical-align: top;\n",
       "    }\n",
       "\n",
       "    .dataframe thead th {\n",
       "        text-align: right;\n",
       "    }\n",
       "</style>\n",
       "<table border=\"1\" class=\"dataframe\">\n",
       "  <thead>\n",
       "    <tr style=\"text-align: right;\">\n",
       "      <th></th>\n",
       "      <th>DateTime</th>\n",
       "      <th>Open</th>\n",
       "      <th>High</th>\n",
       "      <th>Low</th>\n",
       "      <th>Close</th>\n",
       "      <th>Volume</th>\n",
       "    </tr>\n",
       "  </thead>\n",
       "  <tbody>\n",
       "    <tr>\n",
       "      <th>0</th>\n",
       "      <td>2020-11-09 00:00:00</td>\n",
       "      <td>1.31797</td>\n",
       "      <td>1.31798</td>\n",
       "      <td>1.31731</td>\n",
       "      <td>1.31752</td>\n",
       "      <td>1005884032</td>\n",
       "    </tr>\n",
       "    <tr>\n",
       "      <th>1</th>\n",
       "      <td>2020-11-09 00:05:00</td>\n",
       "      <td>1.31751</td>\n",
       "      <td>1.31760</td>\n",
       "      <td>1.31702</td>\n",
       "      <td>1.31716</td>\n",
       "      <td>899025024</td>\n",
       "    </tr>\n",
       "    <tr>\n",
       "      <th>2</th>\n",
       "      <td>2020-11-09 00:10:00</td>\n",
       "      <td>1.31711</td>\n",
       "      <td>1.31727</td>\n",
       "      <td>1.31676</td>\n",
       "      <td>1.31720</td>\n",
       "      <td>772915968</td>\n",
       "    </tr>\n",
       "    <tr>\n",
       "      <th>3</th>\n",
       "      <td>2020-11-09 00:15:00</td>\n",
       "      <td>1.31720</td>\n",
       "      <td>1.31752</td>\n",
       "      <td>1.31704</td>\n",
       "      <td>1.31749</td>\n",
       "      <td>647590016</td>\n",
       "    </tr>\n",
       "    <tr>\n",
       "      <th>4</th>\n",
       "      <td>2020-11-09 00:20:00</td>\n",
       "      <td>1.31748</td>\n",
       "      <td>1.31786</td>\n",
       "      <td>1.31739</td>\n",
       "      <td>1.31758</td>\n",
       "      <td>955811008</td>\n",
       "    </tr>\n",
       "  </tbody>\n",
       "</table>\n",
       "</div>"
      ],
      "text/plain": [
       "              DateTime     Open     High      Low    Close      Volume\n",
       "0  2020-11-09 00:00:00  1.31797  1.31798  1.31731  1.31752  1005884032\n",
       "1  2020-11-09 00:05:00  1.31751  1.31760  1.31702  1.31716   899025024\n",
       "2  2020-11-09 00:10:00  1.31711  1.31727  1.31676  1.31720   772915968\n",
       "3  2020-11-09 00:15:00  1.31720  1.31752  1.31704  1.31749   647590016\n",
       "4  2020-11-09 00:20:00  1.31748  1.31786  1.31739  1.31758   955811008"
      ]
     },
     "execution_count": 4,
     "metadata": {},
     "output_type": "execute_result"
    }
   ],
   "source": [
    "df.head()"
   ]
  },
  {
   "cell_type": "code",
   "execution_count": 5,
   "metadata": {
    "ExecuteTime": {
     "end_time": "2021-06-27T21:14:28.674004Z",
     "start_time": "2021-06-27T21:14:28.635005Z"
    }
   },
   "outputs": [],
   "source": [
    "df['DateTime'] = pd.to_datetime(df['DateTime'])"
   ]
  },
  {
   "cell_type": "code",
   "execution_count": 6,
   "metadata": {
    "ExecuteTime": {
     "end_time": "2021-06-27T21:14:28.840008Z",
     "start_time": "2021-06-27T21:14:28.820002Z"
    },
    "scrolled": true
   },
   "outputs": [
    {
     "data": {
      "text/html": [
       "<div>\n",
       "<style scoped>\n",
       "    .dataframe tbody tr th:only-of-type {\n",
       "        vertical-align: middle;\n",
       "    }\n",
       "\n",
       "    .dataframe tbody tr th {\n",
       "        vertical-align: top;\n",
       "    }\n",
       "\n",
       "    .dataframe thead th {\n",
       "        text-align: right;\n",
       "    }\n",
       "</style>\n",
       "<table border=\"1\" class=\"dataframe\">\n",
       "  <thead>\n",
       "    <tr style=\"text-align: right;\">\n",
       "      <th></th>\n",
       "      <th>DateTime</th>\n",
       "      <th>Open</th>\n",
       "      <th>High</th>\n",
       "      <th>Low</th>\n",
       "      <th>Close</th>\n",
       "      <th>Volume</th>\n",
       "    </tr>\n",
       "  </thead>\n",
       "  <tbody>\n",
       "    <tr>\n",
       "      <th>0</th>\n",
       "      <td>2020-11-09 00:00:00</td>\n",
       "      <td>1.31797</td>\n",
       "      <td>1.31798</td>\n",
       "      <td>1.31731</td>\n",
       "      <td>1.31752</td>\n",
       "      <td>1005884032</td>\n",
       "    </tr>\n",
       "    <tr>\n",
       "      <th>1</th>\n",
       "      <td>2020-11-09 00:05:00</td>\n",
       "      <td>1.31751</td>\n",
       "      <td>1.31760</td>\n",
       "      <td>1.31702</td>\n",
       "      <td>1.31716</td>\n",
       "      <td>899025024</td>\n",
       "    </tr>\n",
       "    <tr>\n",
       "      <th>2</th>\n",
       "      <td>2020-11-09 00:10:00</td>\n",
       "      <td>1.31711</td>\n",
       "      <td>1.31727</td>\n",
       "      <td>1.31676</td>\n",
       "      <td>1.31720</td>\n",
       "      <td>772915968</td>\n",
       "    </tr>\n",
       "    <tr>\n",
       "      <th>3</th>\n",
       "      <td>2020-11-09 00:15:00</td>\n",
       "      <td>1.31720</td>\n",
       "      <td>1.31752</td>\n",
       "      <td>1.31704</td>\n",
       "      <td>1.31749</td>\n",
       "      <td>647590016</td>\n",
       "    </tr>\n",
       "    <tr>\n",
       "      <th>4</th>\n",
       "      <td>2020-11-09 00:20:00</td>\n",
       "      <td>1.31748</td>\n",
       "      <td>1.31786</td>\n",
       "      <td>1.31739</td>\n",
       "      <td>1.31758</td>\n",
       "      <td>955811008</td>\n",
       "    </tr>\n",
       "  </tbody>\n",
       "</table>\n",
       "</div>"
      ],
      "text/plain": [
       "             DateTime     Open     High      Low    Close      Volume\n",
       "0 2020-11-09 00:00:00  1.31797  1.31798  1.31731  1.31752  1005884032\n",
       "1 2020-11-09 00:05:00  1.31751  1.31760  1.31702  1.31716   899025024\n",
       "2 2020-11-09 00:10:00  1.31711  1.31727  1.31676  1.31720   772915968\n",
       "3 2020-11-09 00:15:00  1.31720  1.31752  1.31704  1.31749   647590016\n",
       "4 2020-11-09 00:20:00  1.31748  1.31786  1.31739  1.31758   955811008"
      ]
     },
     "execution_count": 6,
     "metadata": {},
     "output_type": "execute_result"
    }
   ],
   "source": [
    "df.head()"
   ]
  },
  {
   "cell_type": "code",
   "execution_count": 7,
   "metadata": {
    "ExecuteTime": {
     "end_time": "2021-06-27T21:14:29.394210Z",
     "start_time": "2021-06-27T21:14:29.380236Z"
    },
    "scrolled": true
   },
   "outputs": [
    {
     "name": "stdout",
     "output_type": "stream",
     "text": [
      "<class 'pandas.core.frame.DataFrame'>\n",
      "RangeIndex: 33953 entries, 0 to 33952\n",
      "Data columns (total 6 columns):\n",
      " #   Column    Non-Null Count  Dtype         \n",
      "---  ------    --------------  -----         \n",
      " 0   DateTime  33953 non-null  datetime64[ns]\n",
      " 1   Open      33953 non-null  float64       \n",
      " 2   High      33953 non-null  float64       \n",
      " 3   Low       33953 non-null  float64       \n",
      " 4   Close     33953 non-null  float64       \n",
      " 5   Volume    33953 non-null  int64         \n",
      "dtypes: datetime64[ns](1), float64(4), int64(1)\n",
      "memory usage: 1.6 MB\n"
     ]
    }
   ],
   "source": [
    "df.info()"
   ]
  },
  {
   "cell_type": "code",
   "execution_count": 8,
   "metadata": {
    "ExecuteTime": {
     "end_time": "2021-06-27T21:14:29.685218Z",
     "start_time": "2021-06-27T21:14:29.678210Z"
    }
   },
   "outputs": [],
   "source": [
    "df = df.set_index('DateTime')"
   ]
  },
  {
   "cell_type": "code",
   "execution_count": 9,
   "metadata": {
    "ExecuteTime": {
     "end_time": "2021-06-27T21:14:29.959473Z",
     "start_time": "2021-06-27T21:14:29.948465Z"
    }
   },
   "outputs": [],
   "source": [
    "df['target3'] = df['Close'].shift(-3)\n"
   ]
  },
  {
   "cell_type": "code",
   "execution_count": 10,
   "metadata": {
    "ExecuteTime": {
     "end_time": "2021-06-27T21:14:30.379734Z",
     "start_time": "2021-06-27T21:14:30.365739Z"
    },
    "scrolled": false
   },
   "outputs": [],
   "source": [
    "df['ema8'] = ta.EMA(df['Close'], timeperiod = 8)\n",
    "df['ema21'] = ta.EMA(df['Close'], timeperiod = 21)\n",
    "df['ema50'] = ta.EMA(df['Close'], timeperiod = 50)\n",
    "df['ema200'] = ta.EMA(df['Close'], timeperiod = 200)"
   ]
  },
  {
   "cell_type": "code",
   "execution_count": 11,
   "metadata": {
    "ExecuteTime": {
     "end_time": "2021-06-27T21:14:30.767877Z",
     "start_time": "2021-06-27T21:14:30.756876Z"
    }
   },
   "outputs": [],
   "source": [
    "df['slowk'], df['slowd'] = ta.STOCH(df.High, df.Low, df.Close,\n",
    "                                   fastk_period=14, slowk_period=1, slowd_period=5)"
   ]
  },
  {
   "cell_type": "code",
   "execution_count": 12,
   "metadata": {
    "ExecuteTime": {
     "end_time": "2021-06-27T21:14:31.229009Z",
     "start_time": "2021-06-27T21:14:31.173009Z"
    },
    "scrolled": false
   },
   "outputs": [],
   "source": [
    "df = df.dropna()"
   ]
  },
  {
   "cell_type": "code",
   "execution_count": 13,
   "metadata": {
    "ExecuteTime": {
     "end_time": "2021-06-27T21:14:31.869944Z",
     "start_time": "2021-06-27T21:14:31.823920Z"
    }
   },
   "outputs": [],
   "source": [
    "import mplfinance as mpf"
   ]
  },
  {
   "cell_type": "code",
   "execution_count": 14,
   "metadata": {
    "ExecuteTime": {
     "end_time": "2021-06-27T21:14:32.629920Z",
     "start_time": "2021-06-27T21:14:32.590922Z"
    },
    "scrolled": false
   },
   "outputs": [
    {
     "data": {
      "text/html": [
       "<div>\n",
       "<style scoped>\n",
       "    .dataframe tbody tr th:only-of-type {\n",
       "        vertical-align: middle;\n",
       "    }\n",
       "\n",
       "    .dataframe tbody tr th {\n",
       "        vertical-align: top;\n",
       "    }\n",
       "\n",
       "    .dataframe thead th {\n",
       "        text-align: right;\n",
       "    }\n",
       "</style>\n",
       "<table border=\"1\" class=\"dataframe\">\n",
       "  <thead>\n",
       "    <tr style=\"text-align: right;\">\n",
       "      <th></th>\n",
       "      <th>Open</th>\n",
       "      <th>High</th>\n",
       "      <th>Low</th>\n",
       "      <th>Close</th>\n",
       "      <th>Volume</th>\n",
       "      <th>target3</th>\n",
       "      <th>ema8</th>\n",
       "      <th>ema21</th>\n",
       "      <th>ema50</th>\n",
       "      <th>ema200</th>\n",
       "      <th>slowk</th>\n",
       "      <th>slowd</th>\n",
       "    </tr>\n",
       "    <tr>\n",
       "      <th>DateTime</th>\n",
       "      <th></th>\n",
       "      <th></th>\n",
       "      <th></th>\n",
       "      <th></th>\n",
       "      <th></th>\n",
       "      <th></th>\n",
       "      <th></th>\n",
       "      <th></th>\n",
       "      <th></th>\n",
       "      <th></th>\n",
       "      <th></th>\n",
       "      <th></th>\n",
       "    </tr>\n",
       "  </thead>\n",
       "  <tbody>\n",
       "    <tr>\n",
       "      <th>2020-11-09 16:35:00</th>\n",
       "      <td>1.31403</td>\n",
       "      <td>1.31449</td>\n",
       "      <td>1.31366</td>\n",
       "      <td>1.31401</td>\n",
       "      <td>2147483647</td>\n",
       "      <td>1.31318</td>\n",
       "      <td>1.313857</td>\n",
       "      <td>1.314705</td>\n",
       "      <td>1.315726</td>\n",
       "      <td>1.316918</td>\n",
       "      <td>45.945946</td>\n",
       "      <td>37.985294</td>\n",
       "    </tr>\n",
       "    <tr>\n",
       "      <th>2020-11-09 16:40:00</th>\n",
       "      <td>1.31401</td>\n",
       "      <td>1.31415</td>\n",
       "      <td>1.31291</td>\n",
       "      <td>1.31306</td>\n",
       "      <td>1737888000</td>\n",
       "      <td>1.31349</td>\n",
       "      <td>1.313680</td>\n",
       "      <td>1.314556</td>\n",
       "      <td>1.315622</td>\n",
       "      <td>1.316880</td>\n",
       "      <td>35.097493</td>\n",
       "      <td>38.956555</td>\n",
       "    </tr>\n",
       "    <tr>\n",
       "      <th>2020-11-09 16:45:00</th>\n",
       "      <td>1.31307</td>\n",
       "      <td>1.31315</td>\n",
       "      <td>1.31208</td>\n",
       "      <td>1.31255</td>\n",
       "      <td>2147483647</td>\n",
       "      <td>1.31340</td>\n",
       "      <td>1.313429</td>\n",
       "      <td>1.314373</td>\n",
       "      <td>1.315501</td>\n",
       "      <td>1.316837</td>\n",
       "      <td>20.891365</td>\n",
       "      <td>36.084735</td>\n",
       "    </tr>\n",
       "    <tr>\n",
       "      <th>2020-11-09 16:50:00</th>\n",
       "      <td>1.31254</td>\n",
       "      <td>1.31318</td>\n",
       "      <td>1.31235</td>\n",
       "      <td>1.31318</td>\n",
       "      <td>2147483647</td>\n",
       "      <td>1.31393</td>\n",
       "      <td>1.313373</td>\n",
       "      <td>1.314265</td>\n",
       "      <td>1.315410</td>\n",
       "      <td>1.316800</td>\n",
       "      <td>38.440111</td>\n",
       "      <td>36.500030</td>\n",
       "    </tr>\n",
       "    <tr>\n",
       "      <th>2020-11-09 16:55:00</th>\n",
       "      <td>1.31318</td>\n",
       "      <td>1.31395</td>\n",
       "      <td>1.31301</td>\n",
       "      <td>1.31349</td>\n",
       "      <td>1887876992</td>\n",
       "      <td>1.31395</td>\n",
       "      <td>1.313399</td>\n",
       "      <td>1.314194</td>\n",
       "      <td>1.315335</td>\n",
       "      <td>1.316767</td>\n",
       "      <td>47.075209</td>\n",
       "      <td>37.490025</td>\n",
       "    </tr>\n",
       "  </tbody>\n",
       "</table>\n",
       "</div>"
      ],
      "text/plain": [
       "                        Open     High      Low    Close      Volume  target3  \\\n",
       "DateTime                                                                       \n",
       "2020-11-09 16:35:00  1.31403  1.31449  1.31366  1.31401  2147483647  1.31318   \n",
       "2020-11-09 16:40:00  1.31401  1.31415  1.31291  1.31306  1737888000  1.31349   \n",
       "2020-11-09 16:45:00  1.31307  1.31315  1.31208  1.31255  2147483647  1.31340   \n",
       "2020-11-09 16:50:00  1.31254  1.31318  1.31235  1.31318  2147483647  1.31393   \n",
       "2020-11-09 16:55:00  1.31318  1.31395  1.31301  1.31349  1887876992  1.31395   \n",
       "\n",
       "                         ema8     ema21     ema50    ema200      slowk  \\\n",
       "DateTime                                                                 \n",
       "2020-11-09 16:35:00  1.313857  1.314705  1.315726  1.316918  45.945946   \n",
       "2020-11-09 16:40:00  1.313680  1.314556  1.315622  1.316880  35.097493   \n",
       "2020-11-09 16:45:00  1.313429  1.314373  1.315501  1.316837  20.891365   \n",
       "2020-11-09 16:50:00  1.313373  1.314265  1.315410  1.316800  38.440111   \n",
       "2020-11-09 16:55:00  1.313399  1.314194  1.315335  1.316767  47.075209   \n",
       "\n",
       "                         slowd  \n",
       "DateTime                        \n",
       "2020-11-09 16:35:00  37.985294  \n",
       "2020-11-09 16:40:00  38.956555  \n",
       "2020-11-09 16:45:00  36.084735  \n",
       "2020-11-09 16:50:00  36.500030  \n",
       "2020-11-09 16:55:00  37.490025  "
      ]
     },
     "execution_count": 14,
     "metadata": {},
     "output_type": "execute_result"
    }
   ],
   "source": [
    "df.head()"
   ]
  },
  {
   "cell_type": "markdown",
   "metadata": {},
   "source": [
    "The central price level – the pivot point – is calculated as a function of the market’s high, low, and close from the previous day (or period, more generally). These values are summed and divided by three. This is the same concept as the “typical price”.\n",
    "\n",
    "Pivot Point = [High (previous) + Low (previous) + Close (previous)] / 3\n",
    "\n",
    "The other six price levels – three support levels and three resistance levels – all use the value of the pivot point as part of their calculations.\n",
    "\n",
    "The three support levels are conveniently termed support 1, support 2, and support 3. The three resistance levels are referred to as resistance 1, resistance 2, and resistance 3. You may also see them called by their shorthand forms – S1, S2, S3, and R1, R2, R3, respectively.\n",
    "\n",
    "These values are calculated as follows:\n",
    "\n",
    "Resistance 1 = (2 x Pivot Point) – Low (previous period)\n",
    "Support 1 = (2 x Pivot Point) – High (previous period)\n",
    "Resistance 2 = (Pivot Point – Support 1) + Resistance 1\n",
    "Support 2 = Pivot Point – (Resistance 1 – Support 1)\n",
    "Resistance 3 = (Pivot Point – Support 2) + Resistance 2\n",
    "Support 3 = Pivot Point – (Resistance 2 – Support 2)"
   ]
  },
  {
   "cell_type": "code",
   "execution_count": 15,
   "metadata": {
    "ExecuteTime": {
     "end_time": "2021-06-27T21:14:37.549358Z",
     "start_time": "2021-06-27T21:14:37.542358Z"
    }
   },
   "outputs": [
    {
     "data": {
      "text/plain": [
       "33751"
      ]
     },
     "execution_count": 15,
     "metadata": {},
     "output_type": "execute_result"
    }
   ],
   "source": [
    "len(df)"
   ]
  },
  {
   "cell_type": "code",
   "execution_count": 16,
   "metadata": {
    "ExecuteTime": {
     "end_time": "2021-06-27T21:14:38.774357Z",
     "start_time": "2021-06-27T21:14:37.949362Z"
    },
    "scrolled": false
   },
   "outputs": [
    {
     "data": {
      "image/png": "[encoded data removed]",
      "text/plain": [
       "<Figure size 1265x575 with 2 Axes>"
      ]
     },
     "metadata": {},
     "output_type": "display_data"
    },
    {
     "name": "stderr",
     "output_type": "stream",
     "text": [
      "C:\\Users\\Neel\\Anaconda3\\lib\\site-packages\\matplotlib\\cbook\\__init__.py:2062: FutureWarning: Support for multi-dimensional indexing (e.g. `obj[:, None]`) is deprecated and will be removed in a future version.  Convert to a numpy array before indexing instead.\n",
      "  x[:, None]\n",
      "C:\\Users\\Neel\\Anaconda3\\lib\\site-packages\\matplotlib\\axes\\_base.py:250: FutureWarning: Support for multi-dimensional indexing (e.g. `obj[:, None]`) is deprecated and will be removed in a future version.  Convert to a numpy array before indexing instead.\n",
      "  y = y[:, np.newaxis]\n"
     ]
    },
    {
     "data": {
      "image/png": "[encoded data removed]",
      "text/plain": [
       "<Figure size 1265x575 with 2 Axes>"
      ]
     },
     "metadata": {},
     "output_type": "display_data"
    }
   ],
   "source": [
    "tcdf = df['2020-12-01 01:00:00':'2020-12-02 01:00:00'][['ema8','ema50']]  # DataFrame with two columns\n",
    "apd  = mpf.make_addplot(tcdf)\n",
    "mpf.plot(df['2020-12-01 01:00:00':'2020-12-02 01:00:00'], type='candle', title='GBPUSD represented by candlesticks', figratio=(22,10))\n",
    "mpf.plot(df['2020-12-01 01:00:00':'2020-12-02 01:00:00'], type='candle', title='GBPUSD with moving averages', figratio=(22,10), addplot=apd)\n",
    "\n",
    "# mpf.plot(stored_df['09-25-2020':'10-01-2020'],type='candle',volume=False,\n",
    "#          show_nontrading=False, figratio=(16,10), style='charles', addplot=apd)"
   ]
  },
  {
   "cell_type": "code",
   "execution_count": 17,
   "metadata": {
    "ExecuteTime": {
     "end_time": "2021-06-27T21:14:44.596357Z",
     "start_time": "2021-06-27T21:14:38.778360Z"
    }
   },
   "outputs": [
    {
     "name": "stderr",
     "output_type": "stream",
     "text": [
      "Using TensorFlow backend.\n",
      "C:\\Users\\Neel\\Anaconda3\\lib\\site-packages\\tensorflow\\python\\framework\\dtypes.py:516: FutureWarning: Passing (type, 1) or '1type' as a synonym of type is deprecated; in a future version of numpy, it will be understood as (type, (1,)) / '(1,)type'.\n",
      "  _np_qint8 = np.dtype([(\"qint8\", np.int8, 1)])\n",
      "C:\\Users\\Neel\\Anaconda3\\lib\\site-packages\\tensorflow\\python\\framework\\dtypes.py:517: FutureWarning: Passing (type, 1) or '1type' as a synonym of type is deprecated; in a future version of numpy, it will be understood as (type, (1,)) / '(1,)type'.\n",
      "  _np_quint8 = np.dtype([(\"quint8\", np.uint8, 1)])\n",
      "C:\\Users\\Neel\\Anaconda3\\lib\\site-packages\\tensorflow\\python\\framework\\dtypes.py:518: FutureWarning: Passing (type, 1) or '1type' as a synonym of type is deprecated; in a future version of numpy, it will be understood as (type, (1,)) / '(1,)type'.\n",
      "  _np_qint16 = np.dtype([(\"qint16\", np.int16, 1)])\n",
      "C:\\Users\\Neel\\Anaconda3\\lib\\site-packages\\tensorflow\\python\\framework\\dtypes.py:519: FutureWarning: Passing (type, 1) or '1type' as a synonym of type is deprecated; in a future version of numpy, it will be understood as (type, (1,)) / '(1,)type'.\n",
      "  _np_quint16 = np.dtype([(\"quint16\", np.uint16, 1)])\n",
      "C:\\Users\\Neel\\Anaconda3\\lib\\site-packages\\tensorflow\\python\\framework\\dtypes.py:520: FutureWarning: Passing (type, 1) or '1type' as a synonym of type is deprecated; in a future version of numpy, it will be understood as (type, (1,)) / '(1,)type'.\n",
      "  _np_qint32 = np.dtype([(\"qint32\", np.int32, 1)])\n",
      "C:\\Users\\Neel\\Anaconda3\\lib\\site-packages\\tensorflow\\python\\framework\\dtypes.py:525: FutureWarning: Passing (type, 1) or '1type' as a synonym of type is deprecated; in a future version of numpy, it will be understood as (type, (1,)) / '(1,)type'.\n",
      "  np_resource = np.dtype([(\"resource\", np.ubyte, 1)])\n",
      "C:\\Users\\Neel\\Anaconda3\\lib\\site-packages\\tensorboard\\compat\\tensorflow_stub\\dtypes.py:541: FutureWarning: Passing (type, 1) or '1type' as a synonym of type is deprecated; in a future version of numpy, it will be understood as (type, (1,)) / '(1,)type'.\n",
      "  _np_qint8 = np.dtype([(\"qint8\", np.int8, 1)])\n",
      "C:\\Users\\Neel\\Anaconda3\\lib\\site-packages\\tensorboard\\compat\\tensorflow_stub\\dtypes.py:542: FutureWarning: Passing (type, 1) or '1type' as a synonym of type is deprecated; in a future version of numpy, it will be understood as (type, (1,)) / '(1,)type'.\n",
      "  _np_quint8 = np.dtype([(\"quint8\", np.uint8, 1)])\n",
      "C:\\Users\\Neel\\Anaconda3\\lib\\site-packages\\tensorboard\\compat\\tensorflow_stub\\dtypes.py:543: FutureWarning: Passing (type, 1) or '1type' as a synonym of type is deprecated; in a future version of numpy, it will be understood as (type, (1,)) / '(1,)type'.\n",
      "  _np_qint16 = np.dtype([(\"qint16\", np.int16, 1)])\n",
      "C:\\Users\\Neel\\Anaconda3\\lib\\site-packages\\tensorboard\\compat\\tensorflow_stub\\dtypes.py:544: FutureWarning: Passing (type, 1) or '1type' as a synonym of type is deprecated; in a future version of numpy, it will be understood as (type, (1,)) / '(1,)type'.\n",
      "  _np_quint16 = np.dtype([(\"quint16\", np.uint16, 1)])\n",
      "C:\\Users\\Neel\\Anaconda3\\lib\\site-packages\\tensorboard\\compat\\tensorflow_stub\\dtypes.py:545: FutureWarning: Passing (type, 1) or '1type' as a synonym of type is deprecated; in a future version of numpy, it will be understood as (type, (1,)) / '(1,)type'.\n",
      "  _np_qint32 = np.dtype([(\"qint32\", np.int32, 1)])\n",
      "C:\\Users\\Neel\\Anaconda3\\lib\\site-packages\\tensorboard\\compat\\tensorflow_stub\\dtypes.py:550: FutureWarning: Passing (type, 1) or '1type' as a synonym of type is deprecated; in a future version of numpy, it will be understood as (type, (1,)) / '(1,)type'.\n",
      "  np_resource = np.dtype([(\"resource\", np.ubyte, 1)])\n"
     ]
    }
   ],
   "source": [
    "from sklearn.preprocessing import MinMaxScaler\n",
    "from numpy import hstack\n",
    "from keras.models import Sequential\n",
    "from keras.layers import LSTM\n",
    "from keras.layers import Dense\n",
    "from keras.layers import Dropout\n",
    "from sklearn.metrics import mean_squared_error"
   ]
  },
  {
   "cell_type": "code",
   "execution_count": 18,
   "metadata": {
    "ExecuteTime": {
     "end_time": "2021-06-27T21:14:44.614362Z",
     "start_time": "2021-06-27T21:14:44.602360Z"
    }
   },
   "outputs": [],
   "source": [
    "def visualize_training_results(results):\n",
    "    history = results.history\n",
    "    plt.figure()\n",
    "    plt.plot(history['val_loss'])\n",
    "    plt.plot(history['loss'])\n",
    "    plt.legend(['val_loss', 'loss'])\n",
    "    plt.title('Loss')\n",
    "    plt.xlabel('Epochs')\n",
    "    plt.ylabel('Loss')\n",
    "    plt.show()\n",
    "    \n",
    "    plt.figure()\n",
    "    plt.plot(history['val_mse'])\n",
    "    plt.plot(history['mse'])\n",
    "    plt.legend(['val_mse', 'mse'])\n",
    "    plt.title('Acc')\n",
    "    plt.xlabel('Epochs')\n",
    "    plt.ylabel('MSE')\n",
    "    plt.show()"
   ]
  },
  {
   "cell_type": "code",
   "execution_count": 19,
   "metadata": {
    "ExecuteTime": {
     "end_time": "2021-06-27T21:14:44.650362Z",
     "start_time": "2021-06-27T21:14:44.623361Z"
    }
   },
   "outputs": [],
   "source": [
    "combined_df = df.copy()"
   ]
  },
  {
   "cell_type": "code",
   "execution_count": 20,
   "metadata": {
    "ExecuteTime": {
     "end_time": "2021-06-27T21:14:45.547377Z",
     "start_time": "2021-06-27T21:14:45.514359Z"
    }
   },
   "outputs": [],
   "source": [
    "# split into train / test - 2/3 for train, 1/3 for test\n",
    "ema_50_train = combined_df['ema50'].iloc[:22300]\n",
    "ema_50_test = combined_df['ema50'].iloc[22301:]\n",
    "ema_200_train = combined_df['ema200'].iloc[:22300]\n",
    "ema_200_test = combined_df['ema200'].iloc[22301:]\n",
    "close_train = combined_df['Close'].iloc[:22300]\n",
    "close_test = combined_df['Close'].iloc[22301:]\n",
    "target3_train = combined_df['target3'].iloc[:22300]\n",
    "target3_test = combined_df['target3'].iloc[22301:]\n",
    "\n",
    "# #adding additional train / test splits for the rest of the models\n",
    "ema_8_train = combined_df['ema8'].iloc[:22300]\n",
    "ema_8_test = combined_df['ema8'].iloc[22301:]\n",
    "ema_21_train = combined_df['ema21'].iloc[:22300]\n",
    "ema_21_test = combined_df['ema21'].iloc[22301:]\n",
    "# b_upper_train = combined_df['upperband'].iloc[:22300]\n",
    "# b_upper_test = combined_df['upperband'].iloc[22301:]\n",
    "# b_lower_train = combined_df['lowerband'].iloc[:22300]\n",
    "# b_lower_test = combined_df['lowerband'].iloc[22301:]\n",
    "# b_mid_train = combined_df['middleband'].iloc[:22300]\n",
    "# b_mid_test = combined_df['middleband'].iloc[22301:]\n",
    "stochk_train = combined_df['slowk'].iloc[:22300]\n",
    "stochk_test = combined_df['slowk'].iloc[22301:]\n",
    "stochd_train = combined_df['slowd'].iloc[:22300]\n",
    "stochd_test = combined_df['slowd'].iloc[22301:]\n",
    "\n",
    "open_train = combined_df['Open'].iloc[:22300]\n",
    "open_test = combined_df['Open'].iloc[22301:]\n",
    "high_train = combined_df['High'].iloc[:22300]\n",
    "high_test = combined_df['High'].iloc[22301:]\n",
    "low_train = combined_df['Low'].iloc[:22300]\n",
    "low_test = combined_df['Low'].iloc[22301:]"
   ]
  },
  {
   "cell_type": "code",
   "execution_count": 21,
   "metadata": {
    "ExecuteTime": {
     "end_time": "2021-06-27T21:14:45.937360Z",
     "start_time": "2021-06-27T21:14:45.921362Z"
    }
   },
   "outputs": [],
   "source": [
    "# Reshape training data\n",
    "ema_50_array = np.array(ema_50_train).reshape((len(ema_50_train), 1))\n",
    "ema_200_array = np.array(ema_200_train).reshape((len(ema_200_train), 1))\n",
    "close_array = np.array(close_train).reshape((len(close_train), 1))\n",
    "target3_array = np.array(target3_train).reshape((len(target3_train), 1))\n",
    "\n",
    "#reshaping additional features for the rest of the models\n",
    "ema_8_array = np.array(ema_8_train).reshape((len(ema_8_train), 1))\n",
    "ema_21_array = np.array(ema_21_train).reshape((len(ema_21_train), 1))\n",
    "\n",
    "# b_upper_array = np.array(b_upper_train).reshape((len(b_upper_train), 1))\n",
    "# b_lower_array = np.array(b_lower_train).reshape((len(b_lower_train), 1))\n",
    "# b_mid_array = np.array(b_mid_train).reshape((len(b_mid_train), 1))\n",
    "stochk_array = np.array(stochk_train).reshape((len(stochk_train), 1))\n",
    "stochd_array = np.array(stochd_train).reshape((len(stochd_train), 1))\n",
    "\n",
    "open_array = np.array(open_train).reshape((len(open_train), 1))\n",
    "high_array = np.array(high_train).reshape((len(high_train), 1))\n",
    "low_array = np.array(low_train).reshape((len(low_train), 1))"
   ]
  },
  {
   "cell_type": "code",
   "execution_count": 22,
   "metadata": {
    "ExecuteTime": {
     "end_time": "2021-06-27T21:14:46.519676Z",
     "start_time": "2021-06-27T21:14:46.505683Z"
    }
   },
   "outputs": [],
   "source": [
    "t_ema_50_array = np.array(ema_50_test).reshape((len(ema_50_test), 1))\n",
    "t_ema_200_array = np.array(ema_200_test).reshape((len(ema_200_test), 1))\n",
    "t_close_array = np.array(close_test).reshape((len(close_test), 1))\n",
    "t_target3_array = np.array(target3_test).reshape((len(target3_test), 1))\n",
    "\n",
    "\n",
    "t_ema_8_array = np.array(ema_8_test).reshape((len(ema_8_test), 1))\n",
    "t_ema_21_array = np.array(ema_21_test).reshape((len(ema_21_test), 1))\n",
    "\n",
    "# t_b_upper_array = np.array(b_upper_test).reshape((len(b_upper_test), 1))\n",
    "# t_b_lower_array = np.array(b_lower_test).reshape((len(b_lower_test), 1))\n",
    "# t_b_mid_array = np.array(b_mid_test).reshape((len(b_mid_test), 1))\n",
    "t_stochk_array = np.array(stochk_test).reshape((len(stochk_test), 1))\n",
    "t_stochd_array = np.array(stochd_test).reshape((len(stochd_test), 1))\n",
    "\n",
    "t_open_array = np.array(open_test).reshape((len(open_test), 1))\n",
    "t_high_array = np.array(high_test).reshape((len(high_test), 1))\n",
    "t_low_array = np.array(low_test).reshape((len(low_test), 1))"
   ]
  },
  {
   "cell_type": "code",
   "execution_count": 23,
   "metadata": {
    "ExecuteTime": {
     "end_time": "2021-06-27T21:14:47.050696Z",
     "start_time": "2021-06-27T21:14:47.033700Z"
    }
   },
   "outputs": [],
   "source": [
    "# Scale data onto [0,1]\n",
    "scaler = MinMaxScaler(feature_range = (0,1))\n",
    "\n",
    "# Transform data\n",
    "ema_50_training_scaled = scaler.fit_transform(ema_50_array)\n",
    "ema_200_training_scaled = scaler.fit_transform(ema_200_array)\n",
    "close_training_scaled = scaler.fit_transform(close_array)\n",
    "target3_training_scaled = scaler.fit_transform(target3_array)\n",
    "\n",
    "\n",
    "ema_8_training_scaled = scaler.fit_transform(ema_8_array)\n",
    "ema_21_training_scaled = scaler.fit_transform(ema_21_array)\n",
    "\n",
    "# b_upper_training_scaled = scaler.fit_transform(b_upper_array)\n",
    "# b_lower_training_scaled = scaler.fit_transform(b_lower_array)\n",
    "# b_mid_training_scaled = scaler.fit_transform(b_mid_array)\n",
    "stochk_training_scaled = scaler.fit_transform(stochk_array)\n",
    "stochd_training_scaled = scaler.fit_transform(stochd_array)\n",
    "\n",
    "open_training_scaled = scaler.fit_transform(open_array)\n",
    "high_training_scaled = scaler.fit_transform(high_array)\n",
    "low_training_scaled = scaler.fit_transform(low_array)"
   ]
  },
  {
   "cell_type": "code",
   "execution_count": 24,
   "metadata": {
    "ExecuteTime": {
     "end_time": "2021-06-27T21:14:47.495724Z",
     "start_time": "2021-06-27T21:14:47.481726Z"
    }
   },
   "outputs": [],
   "source": [
    "ema_50_test_scaled = scaler.fit_transform(t_ema_50_array)\n",
    "ema_200_test_scaled = scaler.fit_transform(t_ema_200_array)\n",
    "close_test_scaled = scaler.fit_transform(t_close_array)\n",
    "target3_test_scaled = scaler.fit_transform(t_target3_array)\n",
    "\n",
    "ema_8_test_scaled = scaler.fit_transform(t_ema_8_array)\n",
    "ema_21_test_scaled = scaler.fit_transform(t_ema_21_array)\n",
    "\n",
    "# b_upper_test_scaled = scaler.fit_transform(t_b_upper_array)\n",
    "# b_lower_test_scaled = scaler.fit_transform(t_b_lower_array)\n",
    "# b_mid_test_scaled = scaler.fit_transform(t_b_mid_array)\n",
    "stochk_test_scaled = scaler.fit_transform(t_stochk_array)\n",
    "stochd_test_scaled = scaler.fit_transform(t_stochd_array)\n",
    "\n",
    "open_test_scaled = scaler.fit_transform(t_open_array)\n",
    "high_test_scaled = scaler.fit_transform(t_high_array)\n",
    "low_test_scaled = scaler.fit_transform(t_low_array)"
   ]
  },
  {
   "cell_type": "code",
   "execution_count": 25,
   "metadata": {
    "ExecuteTime": {
     "end_time": "2021-06-27T21:14:47.965467Z",
     "start_time": "2021-06-27T21:14:47.959461Z"
    }
   },
   "outputs": [],
   "source": [
    "# split a multivariate sequence into samples\n",
    "def split_sequences(sequences, n_steps):\n",
    "    X, y = list(), list()\n",
    "    for i in range(len(sequences)):\n",
    "        # find the end of this pattern\n",
    "        end_ix = i + n_steps\n",
    "        # check if we are beyond the dataset\n",
    "        if end_ix > len(sequences):\n",
    "            break\n",
    "        # gather input and output parts of the pattern\n",
    "        seq_x, seq_y = sequences[i:end_ix, :-1], sequences[end_ix-1, -1]\n",
    "        X.append(seq_x)\n",
    "        y.append(seq_y)\n",
    "    return np.array(X), np.array(y)"
   ]
  },
  {
   "cell_type": "code",
   "execution_count": 26,
   "metadata": {
    "ExecuteTime": {
     "end_time": "2021-06-27T21:14:48.507724Z",
     "start_time": "2021-06-27T21:14:48.498719Z"
    }
   },
   "outputs": [],
   "source": [
    "# define input sequence\n",
    "in_seq1 = ema_50_training_scaled\n",
    "in_seq2 = ema_200_training_scaled\n",
    "\n",
    "in_seq3 = ema_8_training_scaled\n",
    "in_seq4 = ema_21_training_scaled\n",
    "\n",
    "# in_seq5 = b_upper_training_scaled\n",
    "# in_seq6 = b_lower_training_scaled\n",
    "# in_seq7 = b_mid_training_scaled\n",
    "in_seq7 = stochk_training_scaled\n",
    "in_seq8 = stochd_training_scaled\n",
    "\n",
    "in_seq9 = open_training_scaled\n",
    "in_seq10 = high_training_scaled\n",
    "in_seq11 = low_training_scaled\n",
    "in_seq12 = close_training_scaled\n",
    "\n",
    "out_seq = target3_training_scaled\n",
    "# convert to [rows, columns] structure\n",
    "in_seq1 = in_seq1.reshape((len(in_seq1), 1))\n",
    "in_seq2 = in_seq2.reshape((len(in_seq2), 1))\n",
    "in_seq3 = in_seq3.reshape((len(in_seq3), 1))\n",
    "in_seq4 = in_seq4.reshape((len(in_seq4), 1))\n",
    "# in_seq5 = in_seq5.reshape((len(in_seq5), 1))\n",
    "# in_seq6 = in_seq6.reshape((len(in_seq6), 1))\n",
    "in_seq7 = in_seq7.reshape((len(in_seq7), 1))\n",
    "in_seq8 = in_seq8.reshape((len(in_seq8), 1))\n",
    "in_seq9 = in_seq9.reshape((len(in_seq9), 1))\n",
    "in_seq10 = in_seq10.reshape((len(in_seq10), 1))\n",
    "in_seq11 = in_seq11.reshape((len(in_seq11), 1))\n",
    "in_seq12 = in_seq12.reshape((len(in_seq11), 1))\n",
    "out_seq = out_seq.reshape((len(out_seq), 1))"
   ]
  },
  {
   "cell_type": "code",
   "execution_count": 27,
   "metadata": {
    "ExecuteTime": {
     "end_time": "2021-06-27T21:14:48.998343Z",
     "start_time": "2021-06-27T21:14:48.991345Z"
    }
   },
   "outputs": [],
   "source": [
    "# define test input sequence\n",
    "t_in_seq1 = ema_50_test_scaled\n",
    "t_in_seq2 = ema_200_test_scaled\n",
    "\n",
    "t_in_seq3 = ema_8_test_scaled\n",
    "t_in_seq4 = ema_21_test_scaled\n",
    "\n",
    "# t_in_seq5 = b_upper_test_scaled\n",
    "# t_in_seq6 = b_lower_test_scaled\n",
    "# t_in_seq7 = b_mid_test_scaled\n",
    "t_in_seq7 = stochk_test_scaled\n",
    "t_in_seq8 = stochd_test_scaled\n",
    "\n",
    "t_in_seq9 = open_test_scaled\n",
    "t_in_seq10 = high_test_scaled\n",
    "t_in_seq11 = low_test_scaled\n",
    "t_in_seq12 = close_test_scaled\n",
    "t_out_seq = target3_test_scaled\n",
    "\n",
    "\n",
    "\n",
    "# convert to [rows, columns] structure\n",
    "t_in_seq1 = t_in_seq1.reshape((len(t_in_seq1), 1))\n",
    "t_in_seq2 = t_in_seq2.reshape((len(t_in_seq2), 1))\n",
    "\n",
    "t_in_seq3 = t_in_seq3.reshape((len(t_in_seq3), 1))\n",
    "t_in_seq4 = t_in_seq4.reshape((len(t_in_seq4), 1))\n",
    "# t_in_seq5 = t_in_seq5.reshape((len(t_in_seq5), 1))\n",
    "# t_in_seq6 = t_in_seq6.reshape((len(t_in_seq6), 1))\n",
    "t_in_seq7 = t_in_seq7.reshape((len(t_in_seq7), 1))\n",
    "t_in_seq8 = t_in_seq8.reshape((len(t_in_seq8), 1))\n",
    "t_in_seq9 = t_in_seq9.reshape((len(t_in_seq9), 1))\n",
    "t_in_seq10 = t_in_seq10.reshape((len(t_in_seq10), 1))\n",
    "t_in_seq11 = t_in_seq11.reshape((len(t_in_seq11), 1))\n",
    "t_in_seq12 = t_in_seq12.reshape((len(t_in_seq11), 1))\n",
    "t_out_seq = t_out_seq.reshape((len(t_out_seq), 1))"
   ]
  },
  {
   "cell_type": "code",
   "execution_count": 28,
   "metadata": {
    "ExecuteTime": {
     "end_time": "2021-06-27T21:14:49.703140Z",
     "start_time": "2021-06-27T21:14:49.699144Z"
    }
   },
   "outputs": [],
   "source": [
    "n_features3 = 10"
   ]
  },
  {
   "cell_type": "code",
   "execution_count": 29,
   "metadata": {
    "ExecuteTime": {
     "end_time": "2021-06-27T21:14:50.326861Z",
     "start_time": "2021-06-27T21:14:50.244863Z"
    }
   },
   "outputs": [],
   "source": [
    "dataset3 = hstack((in_seq1, in_seq2, in_seq3, in_seq4, in_seq7, in_seq8, in_seq9, in_seq10, in_seq11, in_seq12, out_seq))\n",
    "# choose a number of time steps\n",
    "n_steps = 6\n",
    "# convert into input/output\n",
    "X, y = split_sequences(dataset3, n_steps)"
   ]
  },
  {
   "cell_type": "code",
   "execution_count": 30,
   "metadata": {
    "ExecuteTime": {
     "end_time": "2021-06-27T21:14:50.770869Z",
     "start_time": "2021-06-27T21:14:50.765864Z"
    },
    "scrolled": true
   },
   "outputs": [],
   "source": [
    "# use if wanting to check the shape\n",
    "# print(X.shape, y.shape)\n",
    "# # summarize the data\n",
    "# for i in range(len(X)):\n",
    "#     print(X[i], y[i])"
   ]
  },
  {
   "cell_type": "code",
   "execution_count": 31,
   "metadata": {
    "ExecuteTime": {
     "end_time": "2021-06-27T21:14:53.066479Z",
     "start_time": "2021-06-27T21:14:53.013479Z"
    }
   },
   "outputs": [],
   "source": [
    "t_dataset = hstack((t_in_seq1, t_in_seq2, t_in_seq3, t_in_seq4, t_in_seq7, t_in_seq8, t_in_seq9, t_in_seq10, t_in_seq11, t_in_seq12, t_out_seq))\n",
    "# choose a number of time steps\n",
    "t_n_steps = 6\n",
    "# convert into input/output\n",
    "tX, ty = split_sequences(t_dataset, t_n_steps)"
   ]
  },
  {
   "cell_type": "code",
   "execution_count": 32,
   "metadata": {
    "ExecuteTime": {
     "end_time": "2021-06-27T21:14:54.686592Z",
     "start_time": "2021-06-27T21:14:53.346479Z"
    }
   },
   "outputs": [],
   "source": [
    "# Build a Sequential keras model\n",
    "model = Sequential()\n",
    "\n",
    "# Add our first LSTM layer - 20 nodes\n",
    "\n",
    "model.add(LSTM(168, return_sequences=True, activation='relu', input_shape=(n_steps, n_features3)))\n",
    "model.add(LSTM(10, activation='relu', input_shape=(n_steps, n_features3)))\n",
    "model.add(Dense(1))\n",
    "model.compile(optimizer = 'adam', loss = 'mean_squared_error', metrics=['mse', 'acc'])"
   ]
  },
  {
   "cell_type": "code",
   "execution_count": 54,
   "metadata": {
    "ExecuteTime": {
     "end_time": "2021-05-30T22:11:32.644067Z",
     "start_time": "2021-05-30T22:09:02.392069Z"
    },
    "scrolled": true
   },
   "outputs": [
    {
     "name": "stdout",
     "output_type": "stream",
     "text": [
      "Train on 22295 samples, validate on 22295 samples\n",
      "Epoch 1/7\n",
      "22295/22295 [==============================] - 22s 985us/step - loss: 0.0022 - mse: 0.0022 - acc: 8.9706e-05 - val_loss: 1.0696e-04 - val_mse: 1.0696e-04 - val_acc: 8.9706e-05\n",
      "Epoch 2/7\n",
      "22295/22295 [==============================] - 20s 918us/step - loss: 9.3066e-05 - mse: 9.3066e-05 - acc: 8.9706e-05 - val_loss: 8.4598e-05 - val_mse: 8.4598e-05 - val_acc: 8.9706e-05\n",
      "Epoch 3/7\n",
      "22295/22295 [==============================] - 20s 887us/step - loss: 9.3353e-05 - mse: 9.3353e-05 - acc: 8.9706e-05 - val_loss: 9.0280e-05 - val_mse: 9.0280e-05 - val_acc: 8.9706e-05\n",
      "Epoch 4/7\n",
      "22295/22295 [==============================] - 20s 913us/step - loss: 8.7659e-05 - mse: 8.7659e-05 - acc: 8.9706e-05 - val_loss: 8.3584e-05 - val_mse: 8.3584e-05 - val_acc: 8.9706e-05\n",
      "Epoch 5/7\n",
      "22295/22295 [==============================] - 22s 967us/step - loss: 9.0013e-05 - mse: 9.0013e-05 - acc: 8.9706e-05 - val_loss: 8.1663e-05 - val_mse: 8.1663e-05 - val_acc: 8.9706e-05\n",
      "Epoch 6/7\n",
      "22295/22295 [==============================] - 20s 918us/step - loss: 9.2014e-05 - mse: 9.2014e-05 - acc: 8.9706e-05 - val_loss: 1.0272e-04 - val_mse: 1.0272e-04 - val_acc: 8.9706e-05cc: 4.59\n",
      "Epoch 7/7\n",
      "22295/22295 [==============================] - 22s 1000us/step - loss: 8.9353e-05 - mse: 8.9353e-05 - acc: 8.9706e-05 - val_loss: 7.5319e-05 - val_mse: 7.5319e-05 - val_acc: 8.9706e-05\n"
     ]
    }
   ],
   "source": [
    "# Fit the model to our data\n",
    "results3 = model.fit(X, y, epochs=7,validation_data=(X, y), verbose=1)"
   ]
  },
  {
   "cell_type": "code",
   "execution_count": 201,
   "metadata": {
    "ExecuteTime": {
     "end_time": "2021-05-19T19:32:26.200034Z",
     "start_time": "2021-05-19T19:32:26.194030Z"
    }
   },
   "outputs": [],
   "source": [
    "#visualize_training_results(results3)"
   ]
  },
  {
   "cell_type": "code",
   "execution_count": 55,
   "metadata": {
    "ExecuteTime": {
     "end_time": "2021-05-30T22:14:02.626059Z",
     "start_time": "2021-05-30T22:14:00.450065Z"
    }
   },
   "outputs": [],
   "source": [
    "# Generate predictions on test data \n",
    "preds_scaled3 = model.predict(tX)\n",
    "\n",
    "# Convert the predictions back to original scale \n",
    "yhat = scaler.inverse_transform(preds_scaled3)\n",
    "ty_inverse = scaler.inverse_transform(ty.reshape(-1,1))"
   ]
  },
  {
   "cell_type": "code",
   "execution_count": 56,
   "metadata": {
    "ExecuteTime": {
     "end_time": "2021-05-30T22:14:07.939066Z",
     "start_time": "2021-05-30T22:14:07.932066Z"
    }
   },
   "outputs": [
    {
     "data": {
      "text/plain": [
       "0.0007404559351562368"
      ]
     },
     "execution_count": 56,
     "metadata": {},
     "output_type": "execute_result"
    }
   ],
   "source": [
    "#RMSE for test data.\n",
    "np.sqrt(mean_squared_error(ty_inverse, yhat))"
   ]
  },
  {
   "cell_type": "code",
   "execution_count": 48,
   "metadata": {
    "ExecuteTime": {
     "end_time": "2021-05-19T17:45:29.333950Z",
     "start_time": "2021-05-19T17:45:29.327950Z"
    }
   },
   "outputs": [],
   "source": [
    "#7.2 pips with 20 epochs and 8 features predicting 15mins ahead (3 5 mins bars ahead) looking back 6 steps\n",
    "#25pips with 9 epochs and 8 features predicting 4 hours ahead ( 48 5 mins bars ahead) looking back 6 steps\n",
    "#25pips with 9 epochs and 8 features predicting 4 hours ahead ( 48 5 mins bars ahead) looking back 48 steps\n",
    "# xpips with 13 epochs, 8 features predicting 1 hour ahead (12 5 minute bars ahead) looking back 39 steps"
   ]
  },
  {
   "cell_type": "markdown",
   "metadata": {},
   "source": [
    "RMSE: 7.40 pips"
   ]
  },
  {
   "cell_type": "code",
   "execution_count": 38,
   "metadata": {
    "ExecuteTime": {
     "end_time": "2021-05-30T21:47:59.083239Z",
     "start_time": "2021-05-30T21:47:59.080237Z"
    }
   },
   "outputs": [],
   "source": [
    "import pickle"
   ]
  },
  {
   "cell_type": "code",
   "execution_count": 39,
   "metadata": {
    "ExecuteTime": {
     "end_time": "2021-05-30T21:47:59.967237Z",
     "start_time": "2021-05-30T21:47:59.685236Z"
    }
   },
   "outputs": [],
   "source": [
    "with open('./data/gbpusd_model4.pickle', 'wb') as f:\n",
    "    pickle.dump(model, f)"
   ]
  },
  {
   "cell_type": "code",
   "execution_count": 40,
   "metadata": {
    "ExecuteTime": {
     "end_time": "2021-05-30T21:48:06.764234Z",
     "start_time": "2021-05-30T21:48:02.509236Z"
    }
   },
   "outputs": [],
   "source": [
    "#Read from saved pickle file.\n",
    "with open('./data/gbpusd_model4.pickle', 'rb') as file:\n",
    "    gbpusd_model2 = pickle.load(file)\n",
    "    "
   ]
  },
  {
   "cell_type": "code",
   "execution_count": null,
   "metadata": {},
   "outputs": [],
   "source": []
  }
 ],
 "metadata": {
  "kernelspec": {
   "display_name": "Python 3",
   "language": "python",
   "name": "python3"
  },
  "language_info": {
   "codemirror_mode": {
    "name": "ipython",
    "version": 3
   },
   "file_extension": ".py",
   "mimetype": "text/x-python",
   "name": "python",
   "nbconvert_exporter": "python",
   "pygments_lexer": "ipython3",
   "version": "3.6.8"
  },
  "toc": {
   "base_numbering": 1,
   "nav_menu": {},
   "number_sections": true,
   "sideBar": true,
   "skip_h1_title": false,
   "title_cell": "Table of Contents",
   "title_sidebar": "Contents",
   "toc_cell": false,
   "toc_position": {},
   "toc_section_display": true,
   "toc_window_display": false
  }
 },
 "nbformat": 4,
 "nbformat_minor": 2
}
